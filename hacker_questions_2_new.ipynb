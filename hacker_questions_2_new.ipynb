{
 "cells": [
  {
   "cell_type": "markdown",
   "metadata": {},
   "source": [
    "## hacker_question\n",
    "  *If n  is odd, print Weird\n",
    "  *If n  is even and in the inclusive range of 2 to 5, print Not Weird\n",
    "  *If n  is even and in the inclusive range of 6 to 20 , print Weird\n",
    "  *If n  is even and greater than 20, print Not Weird"
   ]
  },
  {
   "cell_type": "code",
   "execution_count": 19,
   "metadata": {},
   "outputs": [],
   "source": [
    "n=range(101)\n",
    "def weirdnumber(n):\n",
    "        if n%2!=0:\n",
    "              print(n,'Weird')\n",
    "        elif n%2==0 and n in range(2,6):\n",
    "            print(n,'Not Weird')\n",
    "        elif n%2==0 and n in range(6,21):\n",
    "            print(n,'Weird')\n",
    "        elif n%2==0 and n>20:\n",
    "            print(n,'Not Weird')"
   ]
  },
  {
   "cell_type": "code",
   "execution_count": 20,
   "metadata": {},
   "outputs": [
    {
     "name": "stdout",
     "output_type": "stream",
     "text": [
      "20 Weird\n"
     ]
    }
   ],
   "source": [
    "weirdnumber(20)"
   ]
  },
  {
   "cell_type": "code",
   "execution_count": 21,
   "metadata": {},
   "outputs": [],
   "source": [
    "def mathfunc(a,b):\n",
    "    print(a+b)\n",
    "    print(a-b)\n",
    "    print(a*b)"
   ]
  },
  {
   "cell_type": "code",
   "execution_count": 22,
   "metadata": {},
   "outputs": [
    {
     "name": "stdout",
     "output_type": "stream",
     "text": [
      "5\n",
      "1\n",
      "6\n"
     ]
    }
   ],
   "source": [
    "mathfunc(3,2)"
   ]
  },
  {
   "cell_type": "code",
   "execution_count": 23,
   "metadata": {},
   "outputs": [],
   "source": [
    "## the hackers code\n",
    "if __name__ == '__main__':\n",
    " a = int(input())\n",
    " b = int(input()) \n",
    "def mathfunc(a,b):\n",
    "    return a +b\n",
    "    return a-b\n",
    "    return a*b\n",
    "print(a+b)\n",
    "print(a-b)\n",
    "print(a*b)"
   ]
  },
  {
   "cell_type": "code",
   "execution_count": 25,
   "metadata": {},
   "outputs": [
    {
     "name": "stdout",
     "output_type": "stream",
     "text": [
      "5\n",
      "1\n",
      "6\n"
     ]
    }
   ],
   "source": [
    "a=3\n",
    "b=2\n",
    "def mathfunc(a,b):\n",
    "    return a +b\n",
    "    return a-b\n",
    "    return a*b\n",
    "print(a+b)\n",
    "print(a-b)\n",
    "print(a*b)"
   ]
  },
  {
   "cell_type": "code",
   "execution_count": 6,
   "metadata": {},
   "outputs": [
    {
     "name": "stdout",
     "output_type": "stream",
     "text": [
      "1\n",
      "1.3333333333333333\n"
     ]
    }
   ],
   "source": [
    "#############+++++++++++++Division++++++++++++++######\n",
    "\n",
    "##Task\n",
    "## Read two integers and print two lines. The first line should contain integer division,  a// b. \n",
    "##The second line should contain float division,  a/b .\n",
    "\n",
    "#You don't need to perform any rounding or formatting operations.\n",
    "#++++++++++++++++++\n",
    "#if __name__ == '__main__':\n",
    "   # a = int(input())\n",
    "    #b = int(input())\n",
    "a=4\n",
    "b=3\n",
    "def division(a,b):\n",
    "   return a//b\n",
    "   return a/b\n",
    "print(a//b)\n",
    "print(a/b)\n"
   ]
  },
  {
   "cell_type": "code",
   "execution_count": 7,
   "metadata": {},
   "outputs": [
    {
     "data": {
      "text/plain": [
       "1"
      ]
     },
     "execution_count": 7,
     "metadata": {},
     "output_type": "execute_result"
    }
   ],
   "source": [
    "## by using this we can print the first return result only \n",
    "division(a,b)"
   ]
  },
  {
   "cell_type": "code",
   "execution_count": 15,
   "metadata": {},
   "outputs": [],
   "source": [
    "###Task\n",
    "##Read an integer N . For all non-negative integers N, print i**2 . See the sample for details.\n",
    "#0<=N<=20\n",
    "\n",
    "def Nsquar(n):\n",
    "    for i in range(0,n):\n",
    "        print(i**2)\n",
    "        \n",
    "        \n",
    "\n",
    "\n"
   ]
  },
  {
   "cell_type": "code",
   "execution_count": 16,
   "metadata": {},
   "outputs": [
    {
     "name": "stdout",
     "output_type": "stream",
     "text": [
      "0\n",
      "1\n",
      "4\n"
     ]
    }
   ],
   "source": [
    "Nsquar(3)"
   ]
  },
  {
   "cell_type": "code",
   "execution_count": null,
   "metadata": {},
   "outputs": [],
   "source": [
    "# the following is working in the hackerpage\n",
    "#def Nsquare(n):\n",
    "#    for i in range(0,n):\n",
    " #     print(i**2)\n",
    "#if __name__ == '__main__':\n",
    "#   n = int(input())\n",
    "#Nsquare(n)\n"
   ]
  },
  {
   "cell_type": "code",
   "execution_count": 99,
   "metadata": {},
   "outputs": [],
   "source": [
    "####leap year or not###\n",
    "def leapyear(year):\n",
    "    if year%4==0:\n",
    "          print(True)\n",
    "    elif year%100==0 :\n",
    "          print(False)\n",
    "    elif year%4==0 and year%400==0:\n",
    "          print(True)\n",
    "    else:\n",
    "        print(False)\n",
    "    "
   ]
  },
  {
   "cell_type": "code",
   "execution_count": 100,
   "metadata": {},
   "outputs": [
    {
     "name": "stdout",
     "output_type": "stream",
     "text": [
      "True\n"
     ]
    }
   ],
   "source": [
    "leapyear(2000)"
   ]
  },
  {
   "cell_type": "code",
   "execution_count": 101,
   "metadata": {},
   "outputs": [
    {
     "name": "stdout",
     "output_type": "stream",
     "text": [
      "True\n"
     ]
    }
   ],
   "source": [
    "leapyear(2400)"
   ]
  },
  {
   "cell_type": "code",
   "execution_count": 102,
   "metadata": {},
   "outputs": [
    {
     "name": "stdout",
     "output_type": "stream",
     "text": [
      "False\n"
     ]
    }
   ],
   "source": [
    "leapyear(1990)"
   ]
  },
  {
   "cell_type": "code",
   "execution_count": 103,
   "metadata": {},
   "outputs": [
    {
     "name": "stdout",
     "output_type": "stream",
     "text": [
      "True\n"
     ]
    }
   ],
   "source": [
    "leapyear(1800)"
   ]
  },
  {
   "cell_type": "code",
   "execution_count": 122,
   "metadata": {},
   "outputs": [],
   "source": [
    "#this program is based on the hacker\n",
    "#In the Gregorian calendar three criteria must be taken into account to identify leap years:\n",
    "#The year can be evenly divided by 4, is a leap year, unless:\n",
    "#The year can be evenly divided by 100, it is NOT a leap year, unless:\n",
    "#The year is also evenly divisible by 400. Then it is a leap year.\n",
    "def leapyear(year):\n",
    "  if year%4==0:\n",
    "        if year%100==0:\n",
    "            if year%400==0:\n",
    "              return True\n",
    "            else:\n",
    "               return False\n",
    "        else:\n",
    "            return False\n",
    "  else:\n",
    "       return False\n",
    "  "
   ]
  },
  {
   "cell_type": "code",
   "execution_count": 123,
   "metadata": {},
   "outputs": [
    {
     "data": {
      "text/plain": [
       "False"
      ]
     },
     "execution_count": 123,
     "metadata": {},
     "output_type": "execute_result"
    }
   ],
   "source": [
    "leapyear(1800)"
   ]
  },
  {
   "cell_type": "code",
   "execution_count": 126,
   "metadata": {},
   "outputs": [
    {
     "data": {
      "text/plain": [
       "True"
      ]
     },
     "execution_count": 126,
     "metadata": {},
     "output_type": "execute_result"
    }
   ],
   "source": [
    "leapyear(2400)"
   ]
  },
  {
   "cell_type": "code",
   "execution_count": 127,
   "metadata": {},
   "outputs": [],
   "source": [
    "##this program is based on the hacker\n",
    "leap=False\n",
    "def leapyear(year):\n",
    "  if year%4==0:\n",
    "        if year%100==0:\n",
    "            if year%400==0:\n",
    "              return True\n",
    "            else:\n",
    "               return leap\n",
    "        else:\n",
    "            return True\n",
    "  else:\n",
    "       return leap"
   ]
  },
  {
   "cell_type": "code",
   "execution_count": 128,
   "metadata": {},
   "outputs": [
    {
     "data": {
      "text/plain": [
       "False"
      ]
     },
     "execution_count": 128,
     "metadata": {},
     "output_type": "execute_result"
    }
   ],
   "source": [
    "leapyear(1800)"
   ]
  },
  {
   "cell_type": "code",
   "execution_count": 129,
   "metadata": {},
   "outputs": [
    {
     "data": {
      "text/plain": [
       "True"
      ]
     },
     "execution_count": 129,
     "metadata": {},
     "output_type": "execute_result"
    }
   ],
   "source": [
    "leapyear(2400)"
   ]
  },
  {
   "cell_type": "code",
   "execution_count": 130,
   "metadata": {},
   "outputs": [
    {
     "data": {
      "text/plain": [
       "True"
      ]
     },
     "execution_count": 130,
     "metadata": {},
     "output_type": "execute_result"
    }
   ],
   "source": [
    "leapyear(1992)"
   ]
  },
  {
   "cell_type": "code",
   "execution_count": null,
   "metadata": {},
   "outputs": [],
   "source": [
    "def is_leap(year):\n",
    "    leap = False\n",
    "    if year%4==0:\n",
    "        if year%100==0:\n",
    "            if year%400==0:\n",
    "              return True\n",
    "            else:\n",
    "               return leap\n",
    "        else:\n",
    "            return true\n",
    "    else:\n",
    "       return leap"
   ]
  },
  {
   "cell_type": "code",
   "execution_count": null,
   "metadata": {},
   "outputs": [],
   "source": [
    "## this also works for the leap year assignment and passes the testing\n",
    "def is_leap(year):\n",
    "    leap=False\n",
    "    if year % 400 == 0:\n",
    "        return True\n",
    "    if year % 100 == 0:\n",
    "        return leap\n",
    "    if year % 4 == 0:\n",
    "        return True\n",
    "    else:\n",
    "        return leap"
   ]
  },
  {
   "cell_type": "code",
   "execution_count": 155,
   "metadata": {},
   "outputs": [],
   "source": [
    "## print function\n",
    "# the one in the print function are very crusial one unless it is difficult to do it\n",
    "#Read an integer N .\n",
    "#Without using any string methods, try to print the following:\n",
    "def squenced(n):\n",
    "    for i in range(0,n):\n",
    "        print(i+1,end=\"\")"
   ]
  },
  {
   "cell_type": "code",
   "execution_count": 157,
   "metadata": {},
   "outputs": [
    {
     "name": "stdout",
     "output_type": "stream",
     "text": [
      "123456789"
     ]
    }
   ],
   "source": [
    "squenced(9)"
   ]
  },
  {
   "cell_type": "code",
   "execution_count": null,
   "metadata": {},
   "outputs": [],
   "source": [
    "#Read an integer .\n",
    "#Without using any string methods, try to print the following:\n",
    "#solved\n",
    "def squenced(n):\n",
    "    for  i in range(0,n):\n",
    "       print(i+1, end=\"\")\n",
    "if __name__ == '__main__':\n",
    "    n = int(input())\n",
    "squenced(n)"
   ]
  },
  {
   "cell_type": "code",
   "execution_count": 165,
   "metadata": {},
   "outputs": [],
   "source": [
    "def palindromic(n):\n",
    "   for i in range(0,n):\n",
    "       print(i+1,end=\"\")"
   ]
  },
  {
   "cell_type": "code",
   "execution_count": 166,
   "metadata": {},
   "outputs": [
    {
     "name": "stdout",
     "output_type": "stream",
     "text": [
      "12345"
     ]
    }
   ],
   "source": [
    "palindromic(5)"
   ]
  },
  {
   "cell_type": "code",
   "execution_count": 198,
   "metadata": {},
   "outputs": [],
   "source": [
    "## \n",
    "def palindromic_(n):\n",
    "   for i in range(1,n+1):\n",
    "       print(((10**i-1)//9)**2)"
   ]
  },
  {
   "cell_type": "code",
   "execution_count": 199,
   "metadata": {},
   "outputs": [
    {
     "name": "stdout",
     "output_type": "stream",
     "text": [
      "1\n",
      "121\n",
      "12321\n",
      "1234321\n",
      "123454321\n"
     ]
    }
   ],
   "source": [
    "palindromic_(5)"
   ]
  },
  {
   "cell_type": "code",
   "execution_count": 203,
   "metadata": {},
   "outputs": [],
   "source": [
    "## also solve the above problem\n",
    "#Your task is to print a palindromic triangle of size N\n",
    "def tria(N):\n",
    "    for i in range(1, N+1):\n",
    "        print((111111111//(10**(9-i)))**2)"
   ]
  },
  {
   "cell_type": "code",
   "execution_count": 205,
   "metadata": {},
   "outputs": [
    {
     "name": "stdout",
     "output_type": "stream",
     "text": [
      "1\n",
      "121\n",
      "12321\n",
      "1234321\n",
      "123454321\n",
      "12345654321\n"
     ]
    }
   ],
   "source": [
    "tria(6)"
   ]
  },
  {
   "cell_type": "code",
   "execution_count": null,
   "metadata": {},
   "outputs": [],
   "source": [
    "def palindromic(n):\n",
    "   for i in range(1, n+1):\n",
    "    print(((10**i-1)//9)**2)"
   ]
  },
  {
   "cell_type": "code",
   "execution_count": null,
   "metadata": {},
   "outputs": [],
   "source": [
    "def palindrome(N):\n",
    "    for i in range(1, N + 1):\n",
    "        print(int('1' * i)**2)\n",
    "\n",
    "palindrome(int(input()))\n"
   ]
  },
  {
   "cell_type": "code",
   "execution_count": null,
   "metadata": {},
   "outputs": [],
   "source": [
    "#You can't take more than two lines. The first line (a f o r -statement) is already written for you. \n",
    "#You have to complete the code using exactly one print statement. \n",
    "for i in range(0,int(input())):  print ([1, 121, 12321, 1234321, 123454321, 12345654321, 1234567654321, 123456787654321,12345678987654321, 12345678910987654321][i])"
   ]
  },
  {
   "cell_type": "code",
   "execution_count": 208,
   "metadata": {},
   "outputs": [],
   "source": [
    "###Divmod\n",
    "#two integers,aand b,\n",
    "#and print three lines.\n",
    "#The first line\tisthe integer division a//b\n",
    "#The second line is a%b (i.e modulo \n",
    "# third line divmod(a,b)\n",
    "def divmod_ab(a,b):\n",
    "    print (a//b)\n",
    "    print (a%b)\n",
    "    print (divmod(a,b))"
   ]
  },
  {
   "cell_type": "code",
   "execution_count": 209,
   "metadata": {},
   "outputs": [
    {
     "name": "stdout",
     "output_type": "stream",
     "text": [
      "17\n",
      "7\n",
      "(17, 7)\n"
     ]
    }
   ],
   "source": [
    "divmod_ab(177,10)"
   ]
  },
  {
   "cell_type": "code",
   "execution_count": 211,
   "metadata": {},
   "outputs": [
    {
     "name": "stdout",
     "output_type": "stream",
     "text": [
      "81\n",
      "1\n"
     ]
    }
   ],
   "source": [
    "##Task\n",
    "## You are given three integers: a, b, and m, respectively. Print two lines.\n",
    "#The first line should print the result of pow(a,b). The second line should print the result of pow(a,b,m)\n",
    "a=3\n",
    "b=4\n",
    "m=5\n",
    "def power(a,b,m):\n",
    "    print(pow(a,b))\n",
    "    print(pow(a,b,m))\n",
    "power(a,b,m)\n",
    "## or see below ##"
   ]
  },
  {
   "cell_type": "code",
   "execution_count": null,
   "metadata": {},
   "outputs": [],
   "source": [
    "##Power mod Power\n",
    "def power(a,b,m):\n",
    "    print(pow(a,b))\n",
    "    print(pow(a,b,m))\n",
    "if __name__=='__main__':## to read from the data in the system\n",
    "    a=int(input())\n",
    "    b=int(input())\n",
    "    m=int(input())\n",
    "power(a,b,m)"
   ]
  },
  {
   "cell_type": "code",
   "execution_count": 212,
   "metadata": {},
   "outputs": [
    {
     "name": "stdout",
     "output_type": "stream",
     "text": [
      "4710194409608608369201743232\n"
     ]
    }
   ],
   "source": [
    "## Task\n",
    "## Read four numbers,a ,b , c, and d , and print the result of a**b + c**d .\n",
    "def int_allsize(a,b,c,d):\n",
    "    print (pow(a,b) + pow(c,d))\n",
    "a=9\n",
    "b=29\n",
    "c=7\n",
    "d=27\n",
    "int_allsize(a,b,c,d)\n",
    "# or see the following #\n"
   ]
  },
  {
   "cell_type": "code",
   "execution_count": null,
   "metadata": {},
   "outputs": [],
   "source": [
    "def int_allsize(a,b,c,d):\n",
    "    print (pow(a,b) + pow(c,d))\n",
    "if __name__=='__main__':\n",
    "    a=int(input())\n",
    "    b=int(input())\n",
    "    c=int(input())\n",
    "    d=int(input())\n",
    "int_allsize(a,b,c,d)"
   ]
  },
  {
   "cell_type": "code",
   "execution_count": 264,
   "metadata": {},
   "outputs": [],
   "source": [
    "def trianglquest(n):\n",
    "     for i in range(0,n): \n",
    "        print( int('1' *i ))"
   ]
  },
  {
   "cell_type": "code",
   "execution_count": 265,
   "metadata": {},
   "outputs": [
    {
     "ename": "ValueError",
     "evalue": "invalid literal for int() with base 10: ''",
     "output_type": "error",
     "traceback": [
      "\u001b[1;31m---------------------------------------------------------------------------\u001b[0m",
      "\u001b[1;31mValueError\u001b[0m                                Traceback (most recent call last)",
      "\u001b[1;32m<ipython-input-265-abf9775f4006>\u001b[0m in \u001b[0;36m<module>\u001b[1;34m\u001b[0m\n\u001b[1;32m----> 1\u001b[1;33m \u001b[0mtrianglquest\u001b[0m\u001b[1;33m(\u001b[0m\u001b[1;36m8\u001b[0m\u001b[1;33m)\u001b[0m\u001b[1;33m\u001b[0m\u001b[1;33m\u001b[0m\u001b[0m\n\u001b[0m",
      "\u001b[1;32m<ipython-input-264-96e204b8fd1e>\u001b[0m in \u001b[0;36mtrianglquest\u001b[1;34m(n)\u001b[0m\n\u001b[0;32m      1\u001b[0m \u001b[1;32mdef\u001b[0m \u001b[0mtrianglquest\u001b[0m\u001b[1;33m(\u001b[0m\u001b[0mn\u001b[0m\u001b[1;33m)\u001b[0m\u001b[1;33m:\u001b[0m\u001b[1;33m\u001b[0m\u001b[1;33m\u001b[0m\u001b[0m\n\u001b[0;32m      2\u001b[0m      \u001b[1;32mfor\u001b[0m \u001b[0mi\u001b[0m \u001b[1;32min\u001b[0m \u001b[0mrange\u001b[0m\u001b[1;33m(\u001b[0m\u001b[1;36m0\u001b[0m\u001b[1;33m,\u001b[0m\u001b[0mn\u001b[0m\u001b[1;33m)\u001b[0m\u001b[1;33m:\u001b[0m\u001b[1;33m\u001b[0m\u001b[1;33m\u001b[0m\u001b[0m\n\u001b[1;32m----> 3\u001b[1;33m         \u001b[0mprint\u001b[0m\u001b[1;33m(\u001b[0m \u001b[0mint\u001b[0m\u001b[1;33m(\u001b[0m\u001b[1;34m'1'\u001b[0m \u001b[1;33m*\u001b[0m\u001b[0mi\u001b[0m \u001b[1;33m)\u001b[0m\u001b[1;33m)\u001b[0m\u001b[1;33m\u001b[0m\u001b[1;33m\u001b[0m\u001b[0m\n\u001b[0m",
      "\u001b[1;31mValueError\u001b[0m: invalid literal for int() with base 10: ''"
     ]
    }
   ],
   "source": [
    "trianglquest(8)"
   ]
  },
  {
   "cell_type": "code",
   "execution_count": null,
   "metadata": {},
   "outputs": [],
   "source": [
    "for i in range(0,5+1):\n",
    "       print([1,22,333,4444][i])"
   ]
  },
  {
   "cell_type": "code",
   "execution_count": null,
   "metadata": {},
   "outputs": [],
   "source": [
    "## Use no more than two lines. The first line (the for statement) is already written for you. \n",
    "## You have to complete the print statement.\n",
    "# Enter your code here. Read input from STDIN. Print output to STDOUT\n",
    "for i in range(0,int(input())-1): print([1,22,333,4444][i])"
   ]
  },
  {
   "cell_type": "code",
   "execution_count": 5,
   "metadata": {},
   "outputs": [
    {
     "name": "stdout",
     "output_type": "stream",
     "text": [
      "1\n",
      "22\n",
      "333\n",
      "4444\n",
      "55555\n",
      "666666\n",
      "7777777\n",
      "88888888\n"
     ]
    }
   ],
   "source": [
    "###Use no more than two lines. The first line (the for statement) is already written for you. \n",
    "##You have to complete the print statement \n",
    "#1<=n<=9 we need to display n-1 results here 9-1=8 The following code is writ if it run it will not stop due to \n",
    "#the unknown int(input()) .\n",
    "\n",
    "#for i in range(1,int(input())):  \n",
    "   # print ([1,22,333,4444,55555,666666,7777777,88888888][i-1])\n",
    "    for i in range(1,9):  \n",
    "     print ([1,22,333,4444,55555,666666,7777777,88888888][i-1])"
   ]
  },
  {
   "cell_type": "code",
   "execution_count": null,
   "metadata": {},
   "outputs": [],
   "source": []
  },
  {
   "cell_type": "code",
   "execution_count": null,
   "metadata": {},
   "outputs": [],
   "source": []
  },
  {
   "cell_type": "code",
   "execution_count": 2,
   "metadata": {},
   "outputs": [
    {
     "name": "stdout",
     "output_type": "stream",
     "text": [
      "3\n",
      "2 1 1\n"
     ]
    }
   ],
   "source": [
    "#Output  lines.\n",
    "#On the first line, output the number of distinct words from the input.\n",
    "#On the second line, output the number of occurrences for each distinct word according to their appearance in the input.\n",
    " #n=len(l)\n",
    "#[l.append(n) for i in range(n)]\n",
    "l=['abye','abye','kbrom','alem']\n",
    "d={}    \n",
    "for x in l:\n",
    "    d[x]=l.count(x)\n",
    "print(len(list(set(l))))\n",
    "print (*d.values())"
   ]
  },
  {
   "cell_type": "code",
   "execution_count": 4,
   "metadata": {},
   "outputs": [
    {
     "name": "stdout",
     "output_type": "stream",
     "text": [
      "3\n",
      "2 1 1\n"
     ]
    }
   ],
   "source": [
    "word_list=['abye','abye','kbrom','alem']\n",
    "d={}    \n",
    "for i,x in enumerate (word_list):\n",
    "    d[x]=word_list.count(x)\n",
    "print(len(list(set(word_list))))\n",
    "print (*d.values())"
   ]
  },
  {
   "cell_type": "code",
   "execution_count": 3,
   "metadata": {},
   "outputs": [
    {
     "name": "stdout",
     "output_type": "stream",
     "text": [
      "3\n",
      "2 1 1\n"
     ]
    }
   ],
   "source": [
    "word_list=\"bcdef\\n abcdefg \\n bcde \\n bcdef\"\n",
    "word_list_=word_list.split()\n",
    "d={}    \n",
    "for x in word_list_:\n",
    "    d[x]=word_list_.count(x)\n",
    "print(len(set(word_list_)))\n",
    "print (*d.values())"
   ]
  },
  {
   "cell_type": "code",
   "execution_count": 63,
   "metadata": {},
   "outputs": [
    {
     "name": "stdout",
     "output_type": "stream",
     "text": [
      "-57\n"
     ]
    }
   ],
   "source": [
    "#Given the participants' score sheet for your University Sports Day, you are required to find the runner-up score. \n",
    "#You are given  scores. Store them in a list and find the score of the runner-up.\n",
    "#2<=n<=10\n",
    "#Here we have to sort the data unless we will not the demand case\n",
    "# case1: run_up_list=[2,3,6,6,5]\n",
    "## case2##\n",
    "run_up_list=[57,-57,57]\n",
    "run_up_list=list(sorted(set(run_up_list)))\n",
    "#run_up_list_unique=list(run_up_list)\n",
    "#max_elment=max(run_up_list)\n",
    "for i in range(0,len(run_up_list)):\n",
    "    if run_up_list[i]==max(run_up_list):\n",
    "        run_up_list.remove(run_up_list[i])\n",
    "print(max(run_up_list))\n",
    "        \n",
    "## the code is valide for the above two cases and others but we have to order the data\n"
   ]
  },
  {
   "cell_type": "code",
   "execution_count": null,
   "metadata": {},
   "outputs": [],
   "source": [
    "## working for the hackers\n",
    "#if __name__ == '__main__':\n",
    "  #  n = int(input())\n",
    "   # arr = list(map(int, input().split()))\n",
    "   # arr_uniq=list(sorted(set(arr)))\n",
    "#for i in range(0,len(arr_uniq)):\n",
    "   # if arr_uniq[i]==max(arr_uniq):\n",
    "      #   arr_uniq.remove(arr_uniq[i])\n",
    "#print(max(arr_uniq))"
   ]
  },
  {
   "cell_type": "code",
   "execution_count": 49,
   "metadata": {},
   "outputs": [
    {
     "data": {
      "text/plain": [
       "array([0, 1, 2, 3])"
      ]
     },
     "execution_count": 49,
     "metadata": {},
     "output_type": "execute_result"
    }
   ],
   "source": [
    "import numpy as np\n",
    "a=np.arange(0,4)\n",
    "a"
   ]
  },
  {
   "cell_type": "code",
   "execution_count": 72,
   "metadata": {},
   "outputs": [
    {
     "name": "stdout",
     "output_type": "stream",
     "text": [
      "37.21\n"
     ]
    }
   ],
   "source": [
    "## nested list\n",
    "#python students = [['Harry', 37.21], ['Berry', 37.21], ['Tina', 37.2], ['Akriti', 41], ['Harsh', 39]]\n",
    "scores=[37.21,37.21,37.2,41,39]\n",
    "score_list=list(sorted(set(scores)))\n",
    "score_list.reverse()\n",
    "#run_up_list_unique=list(run_up_list)\n",
    "#max_elment=max(run_up_list)\n",
    "for i in range(0,len(score_list)):\n",
    "    if score_list[i]==min(score_list):\n",
    "        score_list.remove(score_list[i])\n",
    "print(min(score_list))\n"
   ]
  },
  {
   "cell_type": "code",
   "execution_count": null,
   "metadata": {},
   "outputs": [],
   "source": []
  },
  {
   "cell_type": "code",
   "execution_count": 95,
   "metadata": {},
   "outputs": [
    {
     "name": "stdout",
     "output_type": "stream",
     "text": [
      "37.21\n",
      "Harry\n",
      "Berry\n",
      "Berry\n",
      "Berry\n",
      "Berry\n"
     ]
    }
   ],
   "source": [
    "## nested list\n",
    "python_students = [['Harry', 37.21], ['Berry', 37.21], ['Tina', 37.2], ['Akriti', 41], ['Harsh', 39]]\n",
    "scores=[37.21,37.21,37.2,41,39]\n",
    "score_list=list(sorted(set(scores)))\n",
    "score_list.reverse()\n",
    "#run_up_list_unique=list(run_up_list)\n",
    "#max_elment=max(run_up_list)\n",
    "for i in range(0,len(score_list)):\n",
    "    if score_list[i]==min(score_list):\n",
    "        score_list.remove(score_list[i])\n",
    "print(min(score_list))\n",
    "for i in range(0,len(python_students)):\n",
    "    if python_students[i][1]==37.21:\n",
    "         python_students_=python_students[i][0]\n",
    "    print(python_students_)"
   ]
  },
  {
   "cell_type": "code",
   "execution_count": null,
   "metadata": {},
   "outputs": [],
   "source": [
    "for _ in range(int(raw_input())):\n",
    "    name = raw_input()\n",
    "    score = float(raw_input())"
   ]
  },
  {
   "cell_type": "code",
   "execution_count": null,
   "metadata": {},
   "outputs": [],
   "source": []
  },
  {
   "cell_type": "code",
   "execution_count": null,
   "metadata": {},
   "outputs": [],
   "source": [
    "#n=int(input())\n",
    "#arr=[[input(),float(input())] for _ in range(0,n)]\n",
    "arr.sort(key=lambda x: (x[1],x[0]))\n",
    "names = [i[0] for i in arr]\n",
    "marks = [i[1] for i in arr]\n",
    "min_val=min(marks)\n",
    "while marks[0]==min_val:\n",
    "    marks.remove(marks[0])\n",
    "    names.remove(names[0])    \n",
    "for x in range(0,len(marks)):\n",
    "    if marks[x]==min(marks):\n",
    "        print(names[x])"
   ]
  },
  {
   "cell_type": "code",
   "execution_count": null,
   "metadata": {},
   "outputs": [],
   "source": [
    "## very nice code\n",
    "python_students = [['Harry', 37.21], ['Berry', 37.21], ['Tina', 37.2], ['Akriti', 41], ['Harsh', 39]]\n",
    "n=len(python_students)\n",
    "arr=[['Harry', 37.21], ['Berry', 37.21], ['Tina', 37.2], ['Akriti', 41], ['Harsh', 39]]\n",
    "arr.sort(key=lambda x: (x[1],x[0]))\n",
    "names = [i[0] for i in arr]\n",
    "marks = [i[1] for i in arr]\n",
    "min_val=min(marks)\n",
    "while marks[0]==min_val:\n",
    "    marks.remove(marks[0])\n",
    "    names.remove(names[0])    \n",
    "for x in range(0,len(marks)):\n",
    "    if marks[x]==min(marks):\n",
    "        print(names[x])"
   ]
  },
  {
   "cell_type": "code",
   "execution_count": 104,
   "metadata": {},
   "outputs": [
    {
     "data": {
      "text/plain": [
       "[['Tina', 37.2],\n",
       " ['Berry', 37.21],\n",
       " ['Harry', 37.21],\n",
       " ['Harsh', 39],\n",
       " ['Akriti', 41]]"
      ]
     },
     "execution_count": 104,
     "metadata": {},
     "output_type": "execute_result"
    }
   ],
   "source": [
    "arr.sort(key=lambda x: (x[1],x[0]))\n",
    "arr"
   ]
  },
  {
   "cell_type": "code",
   "execution_count": 1,
   "metadata": {},
   "outputs": [
    {
     "name": "stdout",
     "output_type": "stream",
     "text": [
      "Berry\n",
      "Harry\n"
     ]
    }
   ],
   "source": [
    "arry=[['Harry', 37.21], ['Berry', 37.21], ['Tina', 37.2], ['Akriti', 41], ['Harsh', 39]]\n",
    "arry.sort(key=lambda k:(k[1],k[0]))\n",
    "name=[i[0] for i in arry]\n",
    "score=[i[1] for i in arry]\n",
    "min_=min(score)\n",
    "while score[0]==min_:\n",
    "    name.remove(name[0])\n",
    "    score.remove(score[0])\n",
    "for j in range(0,len(score)):\n",
    "    if score[j]==min(score):\n",
    "        print(name[j])"
   ]
  },
  {
   "cell_type": "code",
   "execution_count": 2,
   "metadata": {},
   "outputs": [
    {
     "name": "stdout",
     "output_type": "stream",
     "text": [
      "Berry\n",
      "Harry\n"
     ]
    }
   ],
   "source": [
    "arry=[['Harry', 37.21], ['Berry', 37.21], ['Tina', 37.2], ['Akriti', 41], ['Harsh', 39]]\n",
    "arry.sort(key=lambda k:(k[1],k[0]))\n",
    "name=[i[0] for i in arry]\n",
    "score=[i[1] for i in arry]\n",
    "min_score=min(score)\n",
    "while score[0]==min_score:\n",
    "    name.remove(name[0])\n",
    "    score.remove(score[0])\n",
    "for k in range(0,len(score)):\n",
    "    if score[k]==min(score):\n",
    "        print(name[k])\n"
   ]
  },
  {
   "cell_type": "code",
   "execution_count": null,
   "metadata": {},
   "outputs": [],
   "source": [
    "# the following programe is the solution for the hacker question\n",
    "\n",
    "#if __name__ == '__main__':\n",
    "#    arry=[[input(),float(input())] for _ in range(0,int(input()))]\n",
    "#arry.sort(key=lambda k:(k[1],k[0]))\n",
    "#name=[i[0] for i in arry]\n",
    "#score=[i[1] for i in arry]\n",
    "#min_score=min(score)\n",
    "#while score[0]==min_score:\n",
    " #   name.remove(name[0])\n",
    "   # score.remove(score[0])\n",
    "#for k in range(0,len(score)):\n",
    "#    if score[k]==min(score):\n",
    "#        print(name[k])\n"
   ]
  },
  {
   "cell_type": "code",
   "execution_count": null,
   "metadata": {},
   "outputs": [],
   "source": [
    "#The first line contains the integer N, the number of students. \n",
    "#The next N lines contains the name and marks obtained by that student separated by a space. \n",
    "#The final line contains the name of a particular student previously listed.\n",
    "#2<=N<=10\n",
    "#0<=marks<=100\n",
    "#given\n",
    "if __name__ == '__main__':\n",
    "   # n = int(input())\n",
    "   # student_marks = {}\n",
    "    for _ in range(n):\n",
    "      #  name, *line = input().split()\n",
    "        scores = list(map(float, line))\n",
    "        student_marks[name] = scores\n",
    "    query_name = input()"
   ]
  },
  {
   "cell_type": "code",
   "execution_count": null,
   "metadata": {},
   "outputs": [],
   "source": [
    "##This is the right code for the above question\n",
    "if __name__ == '__main__':\n",
    "   # n = int(input())\n",
    "    student_marks = {}\n",
    "    for _ in range(n):\n",
    "      #  name, *line =input().split()\n",
    "        scores = list(map(float, line))\n",
    "        scores=sum(scores)/len(scores)\n",
    "        student_marks[name] = scores\n",
    "   # query_name = input()\n",
    "print(\"%.2f\"%student_marks[query_name])"
   ]
  },
  {
   "cell_type": "code",
   "execution_count": 12,
   "metadata": {},
   "outputs": [
    {
     "name": "stdout",
     "output_type": "stream",
     "text": [
      "4.00\n"
     ]
    }
   ],
   "source": [
    "from statistics import mean\n",
    "A=[2,3,4,5,6]\n",
    "m_a=mean(A)\n",
    "\n",
    "print(\"%.2f\"%m_a)\n"
   ]
  },
  {
   "cell_type": "code",
   "execution_count": null,
   "metadata": {},
   "outputs": [],
   "source": [
    "from statistics import mean\n",
    "input_1=['Krishna':[67 68 69],'Arjun':[70 98 63],'Malika':[52 56 60]]\n",
    "n = int(input())\n",
    "    student_marks = {}\n",
    "    for _ in range(n):\n",
    "        name, *line = input().split()\n",
    "        scores = list(map(float, line))\n",
    "        student_marks[name] = scores\n",
    "    query_name = input()\n",
    "print(\"%.2f\"%round(mean(scores), 2))"
   ]
  },
  {
   "cell_type": "code",
   "execution_count": null,
   "metadata": {},
   "outputs": [],
   "source": [
    "#MEAN,VAR,STD"
   ]
  },
  {
   "cell_type": "code",
   "execution_count": 19,
   "metadata": {},
   "outputs": [
    {
     "data": {
      "text/plain": [
       "array([[1, 2],\n",
       "       [3, 4]])"
      ]
     },
     "execution_count": 19,
     "metadata": {},
     "output_type": "execute_result"
    }
   ],
   "source": [
    "import numpy as np\n",
    "arry=np.array([[1,2],[3,4]])\n",
    "arry"
   ]
  },
  {
   "cell_type": "code",
   "execution_count": null,
   "metadata": {},
   "outputs": [],
   "source": [
    "#Task\n",
    "\n",
    "#You are given a 2-D array of size NXM.\n",
    "#Your task is to find:\n",
    "\n",
    "#The mean along axis 1\n",
    "#The var along axis 0\n",
    "#The std along axis none\n",
    "#Output Format\n",
    "\n",
    "#First, print the mean.\n",
    "#Second, print the var.\n",
    "#Third, print the std.\n",
    "\n",
    "if __name__== \"__main__\":\n",
    "   # n,m = map(int,input().split())\n",
    "    #a = np.array([input().split() for _ in range(n)],float)\n",
    "np.set_printoptions(legacy='1.13')# so as to have a space in the list result\n",
    "print(np.mean( a,axis=1),np.var( a,axis=0),\"%.11f\"%np.std(a),sep='\\n')\n"
   ]
  },
  {
   "cell_type": "code",
   "execution_count": 28,
   "metadata": {},
   "outputs": [
    {
     "name": "stdout",
     "output_type": "stream",
     "text": [
      "[ 1.5  3.5]\n",
      "[ 1.  1.]\n",
      "1.11803398875\n"
     ]
    }
   ],
   "source": [
    "import numpy as np\n",
    "arr=[[1,2],[3,4]]\n",
    "arry=np.array(arr)\n",
    "np.set_printoptions(legacy='1.13')# so as to have a space in the list result\n",
    "print(np.mean( arry,axis=1),np.var(arry,axis=0),\"%.11f\"%np.std(arry),sep='\\n')\n"
   ]
  },
  {
   "cell_type": "code",
   "execution_count": 29,
   "metadata": {},
   "outputs": [
    {
     "name": "stdout",
     "output_type": "stream",
     "text": [
      "[ 1.5  3. ]\n",
      "[ 1.    0.25]\n",
      "0.82915619759\n"
     ]
    }
   ],
   "source": [
    "import numpy as np\n",
    "arr1=[[1,2],[3,3]]\n",
    "arry1=np.array(arr1)\n",
    "np.set_printoptions(legacy='1.13')# This will taker of for the format displaying\n",
    "print(np.mean( arry1,axis=1),np.var(arry1,axis=0),np.std(arry1),sep='\\n')"
   ]
  },
  {
   "cell_type": "code",
   "execution_count": null,
   "metadata": {},
   "outputs": [],
   "source": [
    "#Dot and Cross product\n",
    "#Print the matrix multiplication of A and B .\n",
    "#Input Format\n",
    "\n",
    "#The first line contains the integer N .\n",
    "#The next N lines contains N space separated integers of array A.\n",
    "#The following N lines contains N space separated integers of array B.\n",
    "2\n",
    "1 2\n",
    "3 4\n",
    "1 2\n",
    "3 4\n",
    "#compute a dot product of A and B"
   ]
  },
  {
   "cell_type": "code",
   "execution_count": null,
   "metadata": {},
   "outputs": [],
   "source": [
    "import numpy as np\n",
    "if __name__=='__main__':\n",
    "   # n=int(input())\n",
    "   # A=np.array([input().split() for _ in range(n)],int)\n",
    "   # B=np.array([input().split() for _ in  range(n)],int)\n",
    "print(np.dot(A,B))\n"
   ]
  },
  {
   "cell_type": "code",
   "execution_count": null,
   "metadata": {},
   "outputs": [],
   "source": [
    "#Task\n",
    "\n",
    "#You are given two arrays: A and B.\n",
    "#Your task is to compute their inner and outer product.\n",
    "\n",
    "#Input Format\n",
    "\n",
    "#The first line contains the space separated elements of array A.\n",
    "#The second line contains the space separated elements of array B .\n",
    "#Output Format\n",
    "\n",
    "#First, print the inner product.\n",
    "#Second, print the outer product.\n",
    "#Sample Input\n",
    "\n",
    "#0 1\n",
    "#2 3\n",
    "#Sample Output\n",
    "\n",
    "#3\n",
    "#[[0 0]\n",
    "# [2 3]]"
   ]
  },
  {
   "cell_type": "code",
   "execution_count": null,
   "metadata": {},
   "outputs": [],
   "source": [
    "#import numpy as np\n",
    "#if __name__=='__main__':\n",
    "#    A=np.array([input().split() for _ in range(1)],int)\n",
    "#    B=np.array([input().split() for _ in range(1)],int)\n",
    "#print(int(np.inner(A,B)))\n",
    "#print(np.outer(A,B))"
   ]
  },
  {
   "cell_type": "code",
   "execution_count": null,
   "metadata": {},
   "outputs": [],
   "source": [
    "#Task\n",
    "\n",
    "#You are given the coefficients of a polynomialp .\n",
    "#Your task is to find the value of p at point x.\n",
    "\n",
    "#Input Format\n",
    "\n",
    "#The first line contains the space separated value of the coefficients in p.\n",
    "#The second line contains the value ofx .\n",
    "\n",
    "#Output Format\n",
    "\n",
    "#Print the desired value.\n",
    "\n",
    "#Sample Input\n",
    "\n",
    "#1.1 2 3\n",
    "#0\n",
    "#Sample Output\n",
    "\n",
    "#3.0"
   ]
  },
  {
   "cell_type": "code",
   "execution_count": null,
   "metadata": {},
   "outputs": [],
   "source": [
    "import numpy as np\n",
    "if __name__=='__main__':\n",
    " #  arr=np.array(list(map(float,input().split())))   \n",
    " #  x=float(input())\n",
    "print(np.polyval(arr,x))"
   ]
  },
  {
   "cell_type": "code",
   "execution_count": null,
   "metadata": {},
   "outputs": [],
   "source": [
    "#Linear algebra\n",
    "#The linalg.det tool computes the determinant of an array.\n",
    "#print numpy.linalg.det([[1 , 2], [2, 1]])       #Output : -3.0\n",
    "#linalg.eig\n",
    "\n",
    "#The linalg.eig computes the eigenvalues and right eigenvectors of a square array.\n",
    "#vals, vecs = numpy.linalg.eig([[1 , 2], [2, 1]])\n",
    "#print vals                                      #Output : [ 3. -1.]\n",
    "#print vecs                                      #Output : [[ 0.70710678 -0.70710678]\n",
    "                                                #          [ 0.70710678  0.70710678]]\n",
    "#linalg.inv\n",
    "\n",
    "#The linalg.inv tool computes the (multiplicative) inverse of a matrix.\n",
    "#print numpy.linalg.inv([[1 , 2], [2, 1]])       #Output : [[-0.33333333  0.66666667]\n",
    "                                                #          [ 0.66666667 -0.33333333]]\n",
    "#Task\n",
    "\n",
    "#You are given a square matrix A with dimensions NXN. Your task is to find the determinant. Note: Round the answer to 2 places after the decimal.\n",
    "\n",
    "#Input Format\n",
    "\n",
    "#The first N line contains the integer N.\n",
    "#The next  Nlines contains the  space separated elements of array A.\n",
    "\n",
    "#Output Format\n",
    "\n",
    "#Print the determinant of A.\n",
    "\n",
    "#Sample Input\n",
    "\n",
    "#2\n",
    "#1.1 1.1\n",
    "#1.1 1.1\n",
    "#Sample Output\n",
    "\n",
    "#0.0"
   ]
  },
  {
   "cell_type": "code",
   "execution_count": null,
   "metadata": {},
   "outputs": [],
   "source": [
    "import numpy as np\n",
    "if __name__=='__main__':\n",
    "    #n=int(input())\n",
    "    #arr=np.array(list([input().split() for _ in range(n)]), float)\n",
    "    np.set_printoptions(legacy='1.13')# with out this we will not get the demand format. It taker of the number of decimals\n",
    "print(np.linalg.det(arr))\n"
   ]
  },
  {
   "cell_type": "markdown",
   "metadata": {},
   "source": [
    "#### String split and join"
   ]
  },
  {
   "cell_type": "code",
   "execution_count": null,
   "metadata": {},
   "outputs": [],
   "source": [
    "#>>> a = \"this is a string\"\n",
    "#>>> a = a.split(\" \") # a is converted to a list of strings. \n",
    "#>>> print a\n",
    "#['this', 'is', 'a', 'string']\n",
    "#use of join\n",
    "#>>> a = \"-\".join(a)\n",
    "#>>> print a\n",
    "#this-is-a-string \n",
    "\n",
    "#Task\n",
    "#You are given a string. Split the string on a \" \" (space) delimiter and join using a - hyphen.\n",
    "\n",
    "#Input Format\n",
    "#The first line contains a string consisting of space separated words.\n",
    "\n",
    "#Output Format\n",
    "#Print the formatted string as explained above.\n",
    "\n",
    "#Sample Input\n",
    "\n",
    "#this is a string   \n",
    "#Sample Output\n",
    "\n",
    "#this-is-a-string\n",
    "\n",
    "##############solution#####\n",
    "def split_and_join(line):\n",
    "    line=line.split(\" \")\n",
    "    line=\"-\".join(line)\n",
    "    return(line)# this should be a return function if it is a print it does not give a neededresult\n",
    "\n",
    "if __name__ == '__main__':\n",
    "    #line = input()\n",
    "    result = split_and_join(line)\n",
    "    print(result)"
   ]
  },
  {
   "cell_type": "markdown",
   "metadata": {},
   "source": [
    "### what is your name"
   ]
  },
  {
   "cell_type": "code",
   "execution_count": null,
   "metadata": {},
   "outputs": [],
   "source": [
    "#You are given the firstname and lastname of a person on two different lines. Your task is to read them and print the \n",
    "#following:\n",
    "\n",
    "#Hello firstname lastname! You just delved into python.\n",
    "\n",
    "#Input Format\n",
    "\n",
    "#The first line contains the first name, and the second line contains the last name.\n",
    "\n",
    "#Constraints\n",
    "\n",
    "#The length of the first and last name ≤ .\n",
    "\n",
    "#Output Format\n",
    "\n",
    "#Print the output as mentioned above.\n",
    "\n",
    "#Sample Input 0\n",
    "\n",
    "#Ross\n",
    "#Taylor\n",
    "#Sample Output 0\n",
    "\n",
    "#Hello Ross Taylor! You just delved into python.\n",
    "\n",
    "#############solution#########\n",
    "def print_full_name(a, b):\n",
    "    print( \"Hello\",a,b+ \"! You just delved into python.\")\n",
    "\n",
    "if __name__ == '__main__':\n",
    "   # first_name = input()\n",
    "   # last_name = input()\n",
    "    print_full_name(first_nam"
   ]
  },
  {
   "cell_type": "markdown",
   "metadata": {},
   "source": [
    "### mutation"
   ]
  },
  {
   "cell_type": "code",
   "execution_count": null,
   "metadata": {},
   "outputs": [],
   "source": [
    ">>> string = \"abracadabra\"\n",
    ">>> l = list(string)\n",
    ">>> l[5] = 'k'\n",
    ">>> string = ''.join(l)\n",
    ">>> print string\n",
    "abrackdabra\n",
    "Another approach is to slice the string and join it back.\n",
    "Example\n",
    "\n",
    ">>> string = string[:5] + \"k\" + string[6:]\n",
    ">>> print string\n",
    "abrackdabra\n",
    "Task\n",
    "Read a given string, change the character at a given index and then print the modified string.\n",
    "\n",
    "Input Format\n",
    "The first line contains a string, .\n",
    "The next line contains an integer , denoting the index location and a character  separated by a space.\n",
    "\n",
    "Output Format\n",
    "Using any of the methods explained above, replace the character at index  with character .\n",
    "\n",
    "Sample Input\n",
    "\n",
    "abracadabra\n",
    "5 k\n",
    "Sample Output\n",
    "\n",
    "abrackdabra\n"
   ]
  },
  {
   "cell_type": "code",
   "execution_count": null,
   "metadata": {},
   "outputs": [],
   "source": [
    "def mutate_string(string, position, character):\n",
    "    return  string[:position]+character+string[position + 1:]\n",
    "\n",
    "if __name__ == '__main__':\n",
    "   # s = input()\n",
    "   # i, c = input().split()\n",
    "    s_new = mutate_string(s, int(i), c)\n",
    "    print(s_new)"
   ]
  },
  {
   "cell_type": "markdown",
   "metadata": {},
   "source": [
    "## string validator"
   ]
  },
  {
   "cell_type": "code",
   "execution_count": null,
   "metadata": {},
   "outputs": [],
   "source": [
    "#Output Format\n",
    "\n",
    "#Output the integer number indicating the total number of occurrences of the substring in the original string.\n",
    "#Output Format\n",
    "\n",
    "#Output the integer number indicating the total number of occurrences of the substring in the original string.\n",
    "\n",
    "#Sample Input\n",
    "\n",
    "#ABCDCDC\n",
    "#CDC\n",
    "#Sample Output\n",
    "\n",
    "#2"
   ]
  },
  {
   "cell_type": "code",
   "execution_count": null,
   "metadata": {},
   "outputs": [],
   "source": []
  },
  {
   "cell_type": "code",
   "execution_count": null,
   "metadata": {},
   "outputs": [],
   "source": []
  },
  {
   "cell_type": "code",
   "execution_count": null,
   "metadata": {},
   "outputs": [],
   "source": [
    "\n",
    "\n",
    "\n",
    "def count_substring(string, sub_string):\n",
    "    counter=0\n",
    "    for i in range(0,len(string)):\n",
    "        if(string[i:i+len(sub_string)])==sub_string:\n",
    "            counter +=1\n",
    "    return counter\n",
    " \n",
    "if __name__ == '__main__':\n",
    "   # string = input().strip()\n",
    "   # sub_string = input().strip()\n",
    "    \n",
    "    count = count_substring(string, sub_string)\n",
    "    print(count)"
   ]
  },
  {
   "cell_type": "code",
   "execution_count": null,
   "metadata": {},
   "outputs": [],
   "source": []
  },
  {
   "cell_type": "code",
   "execution_count": null,
   "metadata": {},
   "outputs": [],
   "source": [
    "Python has built-in string validation methods for basic data. It can check if a string is composed of alphabetical characters, alphanumeric characters, digits, etc.\n",
    "\n",
    "str.isalnum()\n",
    "This method checks if all the characters of a string are alphanumeric (a-z, A-Z and 0-9).\n",
    "\n",
    ">>> print 'ab123'.isalnum()\n",
    "True\n",
    ">>> print 'ab123#'.isalnum()\n",
    "False\n",
    "str.isalpha()\n",
    "This method checks if all the characters of a string are alphabetical (a-z and A-Z).\n",
    "\n",
    ">>> print 'abcD'.isalpha()\n",
    "True\n",
    ">>> print 'abcd1'.isalpha()\n",
    "False\n",
    "str.isdigit()\n",
    "This method checks if all the characters of a string are digits (0-9).\n",
    "\n",
    ">>> print '1234'.isdigit()\n",
    "True\n",
    ">>> print '123edsd'.isdigit()\n",
    "False\n",
    "str.islower()\n",
    "This method checks if all the characters of a string are lowercase characters (a-z).\n",
    "\n",
    ">>> print 'abcd123#'.islower()\n",
    "True\n",
    ">>> print 'Abcd123#'.islower()\n",
    "False\n",
    "str.isupper()\n",
    "This method checks if all the characters of a string are uppercase characters (A-Z).\n",
    "\n",
    ">>> print 'ABCD123#'.isupper()\n",
    "True\n",
    ">>> print 'Abcd123#'.isupper()\n",
    "False\n",
    "Task\n",
    "\n",
    "You are given a string s.\n",
    "Your task is to find out if the string s contains: alphanumeric characters, alphabetical characters, digits, lowercase and uppercase characters.\n",
    "\n",
    "Input Format\n",
    "\n",
    "A single line containing a string s.\n",
    "Constraints\n",
    "\n",
    "\n",
    "Output Format\n",
    "\n",
    "In the first line, print True if s has any alphanumeric characters. Otherwise, print False.\n",
    "In the second line, print True if s  has any alphabetical characters. Otherwise, print False.\n",
    "In the third line, print True if s has any digits. Otherwise, print False.\n",
    "In the fourth line, print True if s has any lowercase characters. Otherwise, print False.\n",
    "In the fifth line, print True if s has any uppercase characters. Otherwise, print False.\n",
    "\n",
    "Sample Input\n",
    "\n",
    "qA2\n",
    "Sample Output\n",
    "\n",
    "True\n",
    "True\n",
    "True\n",
    "True\n",
    "True\n",
    "## see the following solution"
   ]
  },
  {
   "cell_type": "code",
   "execution_count": null,
   "metadata": {},
   "outputs": [],
   "source": [
    "if __name__ == '__main__':\n",
    "  #  s = input()\n",
    "print (any(x.isalnum() for x  in s))\n",
    "print (any(x.isalpha() for x in s))\n",
    "print (any(x.isdigit() for x in s))\n",
    "print (any(x.islower() for x in s))\n",
    "print (any(x.isupper() for x in s))"
   ]
  },
  {
   "cell_type": "markdown",
   "metadata": {},
   "source": [
    "## text alignment"
   ]
  },
  {
   "cell_type": "code",
   "execution_count": null,
   "metadata": {},
   "outputs": [],
   "source": [
    "In Python, a string of text can be aligned left, right and center.\n",
    "\n",
    ".ljust(width)\n",
    "\n",
    "This method returns a left aligned string of length width.\n",
    "\n",
    ">>> width = 20\n",
    ">>> print 'HackerRank'.ljust(width,'-')\n",
    "HackerRank----------  \n",
    ".center(width)\n",
    "\n",
    "This method returns a centered string of length width.\n",
    "\n",
    ">>> width = 20\n",
    ">>> print 'HackerRank'.center(width,'-')\n",
    "-----HackerRank-----\n",
    ".rjust(width)\n",
    "\n",
    "This method returns a right aligned string of length width.\n",
    "\n",
    ">>> width = 20\n",
    ">>> print 'HackerRank'.rjust(width,'-')\n",
    "----------HackerRank\n",
    "Task\n",
    "\n",
    "You are given a partial code that is used for generating the HackerRank Logo of variable thickness.\n",
    "Your task is to replace the blank (______) with rjust, ljust or center.\n",
    "\n",
    "Input Format\n",
    "\n",
    "A single line containing the thickness value for the logo.\n",
    "\n",
    "Constraints\n",
    "\n",
    "The thickness must be an odd number.\n",
    "\n",
    "Output Format\n",
    "\n",
    "Output the desired logo.\n",
    "\n",
    "Sample Input\n",
    "\n",
    "5\n",
    "Sample Output\n",
    "\n",
    "    H    \n",
    "   HHH   \n",
    "  HHHHH  \n",
    " HHHHHHH \n",
    "HHHHHHHHH\n",
    "  HHHHH               HHHHH             \n",
    "  HHHHH               HHHHH             \n",
    "  HHHHH               HHHHH             \n",
    "  HHHHH               HHHHH             \n",
    "  HHHHH               HHHHH             \n",
    "  HHHHH               HHHHH             \n",
    "  HHHHHHHHHHHHHHHHHHHHHHHHH   \n",
    "  HHHHHHHHHHHHHHHHHHHHHHHHH   \n",
    "  HHHHHHHHHHHHHHHHHHHHHHHHH   \n",
    "  HHHHH               HHHHH             \n",
    "  HHHHH               HHHHH             \n",
    "  HHHHH               HHHHH             \n",
    "  HHHHH               HHHHH             \n",
    "  HHHHH               HHHHH             \n",
    "  HHHHH               HHHHH             \n",
    "                    HHHHHHHHH \n",
    "                     HHHHHHH  \n",
    "                      HHHHH   \n",
    "                       HHH    \n",
    "                        H \n"
   ]
  },
  {
   "cell_type": "code",
   "execution_count": null,
   "metadata": {},
   "outputs": [],
   "source": [
    "#Replace all ______ with rjust, ljust or center. \n",
    "\n",
    "thickness = int(input()) #This must be an odd number\n",
    "c = 'H'\n",
    "\n",
    "#Top Cone\n",
    "for i in range(thickness):\n",
    "    print((c*i).______(thickness-1)+c+(c*i).______(thickness-1))\n",
    "\n",
    "#Top Pillars\n",
    "for i in range(thickness+1):\n",
    "    print((c*thickness).______(thickness*2)+(c*thickness).______(thickness*6))\n",
    "\n",
    "#Middle Belt\n",
    "for i in range((thickness+1)//2):\n",
    "    print((c*thickness*5).______(thickness*6))    \n",
    "\n",
    "#Bottom Pillars\n",
    "for i in range(thickness+1):\n",
    "    print((c*thickness).______(thickness*2)+(c*thickness).______(thickness*6))    \n",
    "\n",
    "#Bottom Cone\n",
    "for i in range(thickness):\n",
    "    print(((c*(thickness-i-1)).______(thickness)+c+(c*(thickness-i-1)).______(thickness)).______(thickness*6))"
   ]
  },
  {
   "cell_type": "code",
   "execution_count": 32,
   "metadata": {},
   "outputs": [
    {
     "name": "stdout",
     "output_type": "stream",
     "text": [
      "    H    \n",
      "   HHH   \n",
      "  HHHHH  \n",
      " HHHHHHH \n",
      "HHHHHHHHH\n",
      "  HHHHH               HHHHH             \n",
      "  HHHHH               HHHHH             \n",
      "  HHHHH               HHHHH             \n",
      "  HHHHH               HHHHH             \n",
      "  HHHHH               HHHHH             \n",
      "  HHHHH               HHHHH             \n",
      "  HHHHHHHHHHHHHHHHHHHHHHHHH   \n",
      "  HHHHHHHHHHHHHHHHHHHHHHHHH   \n",
      "  HHHHHHHHHHHHHHHHHHHHHHHHH   \n",
      "  HHHHH               HHHHH             \n",
      "  HHHHH               HHHHH             \n",
      "  HHHHH               HHHHH             \n",
      "  HHHHH               HHHHH             \n",
      "  HHHHH               HHHHH             \n",
      "  HHHHH               HHHHH             \n",
      "                    HHHHHHHHH \n",
      "                     HHHHHHH  \n",
      "                      HHHHH   \n",
      "                       HHH    \n",
      "                        H     \n"
     ]
    }
   ],
   "source": [
    "#Replace all ______ with rjust, ljust or center. \n",
    "\n",
    "thickness = 5 #This must be an odd number\n",
    "c = 'H'\n",
    "\n",
    "#Top Cone\n",
    "for i in range(thickness):\n",
    "    print((c*i).rjust(thickness-1)+c+(c*i).ljust(thickness-1))\n",
    "\n",
    "#Top Pillars\n",
    "for i in range(thickness+1):\n",
    "    print((c*thickness).center(thickness*2)+(c*thickness).center(thickness*6))\n",
    "\n",
    "#Middle Belt\n",
    "for i in range((thickness+1)//2):\n",
    "    print((c*thickness*5).center(thickness*6))    \n",
    "\n",
    "#Bottom Pillars\n",
    "for i in range(thickness+1):\n",
    "    print((c*thickness).center(thickness*2)+(c*thickness).center(thickness*6))    \n",
    "\n",
    "#Bottom Cone\n",
    "for i in range(thickness):\n",
    "    print(((c*(thickness-i-1)).rjust(thickness)+c+(c*(thickness-i-1)).ljust(thickness)).rjust(thickness*6))"
   ]
  },
  {
   "cell_type": "markdown",
   "metadata": {},
   "source": [
    "## wraped paragraph"
   ]
  },
  {
   "cell_type": "code",
   "execution_count": null,
   "metadata": {},
   "outputs": [],
   "source": [
    "The first line contains a string, .\n",
    "The second line contains the width, .\n",
    "\n",
    "Constraints\n",
    "0<=len(s)<=100\n",
    "0<=w<=len(s)\n",
    "\n",
    "Output Format\n",
    "\n",
    "Print the text wrapped paragraph.\n",
    "\n",
    "Sample Input 0\n",
    "\n",
    "ABCDEFGHIJKLIMNOQRSTUVWXYZ\n",
    "4\n",
    "Sample Output 0\n",
    "\n",
    "ABCD\n",
    "EFGH\n",
    "IJKL\n",
    "IMNO\n",
    "QRST\n",
    "UVWX\n",
    "YZ"
   ]
  },
  {
   "cell_type": "code",
   "execution_count": null,
   "metadata": {},
   "outputs": [],
   "source": [
    "## solution\n",
    "def wrap(string, max_width):\n",
    "    wr=[]\n",
    "    \n",
    "    for i in range(0,len(string),max_width):\n",
    "        wr.append(string[i:i+max_width])\n",
    "    return \"\\n\".join(wr)\n",
    "if __name__ == '__main__':\n",
    "    #string, max_width = input(), int(input())\n",
    "    result = wrap(string, max_width)\n",
    "    print(result)"
   ]
  },
  {
   "cell_type": "markdown",
   "metadata": {},
   "source": [
    "## Desighner door mat"
   ]
  },
  {
   "cell_type": "code",
   "execution_count": 33,
   "metadata": {},
   "outputs": [
    {
     "name": "stdout",
     "output_type": "stream",
     "text": [
      "------------.|.------------\n",
      "---------.|..|..|.---------\n",
      "------.|..|..|..|..|.------\n",
      "---.|..|..|..|..|..|..|.---\n",
      "----------WELCOME----------\n",
      "---.|..|..|..|..|..|..|.---\n",
      "------.|..|..|..|..|.------\n",
      "---------.|..|..|.---------\n",
      "------------.|.------------\n"
     ]
    }
   ],
   "source": [
    "#n, m = map(int,input().split())\n",
    "n=9\n",
    "m=27\n",
    "pattern = [('.|.'*(2*i + 1)).center(m, '-') for i in range(n//2)]\n",
    "print('\\n'.join(pattern + ['WELCOME'.center(m, '-')] + pattern[::-1]))"
   ]
  },
  {
   "cell_type": "markdown",
   "metadata": {},
   "source": [
    "## string formatting"
   ]
  },
  {
   "cell_type": "code",
   "execution_count": null,
   "metadata": {},
   "outputs": [],
   "source": [
    "Given an integer, n, print the following values for each integer i from 1 to n:\n",
    "\n",
    "Decimal\n",
    "Octal\n",
    "Hexadecimal (capitalized)\n",
    "Binary\n",
    "The four values must be printed on a single line in the order specified above for each i from  1 to n . \n",
    "Each value should be space-padded to match the width of the binary value of n .\n",
    "\n",
    "Input Format\n",
    "\n",
    "A single integer denoting n.\n",
    "Sample Input\n",
    "\n",
    "17\n",
    "Sample Output\n",
    "\n",
    "    1     1     1     1\n",
    "    2     2     2    10\n",
    "    3     3     3    11\n",
    "    4     4     4   100\n",
    "    5     5     5   101\n",
    "    6     6     6   110\n",
    "    7     7     7   111\n",
    "    8    10     8  1000\n",
    "    9    11     9  1001\n",
    "   10    12     A  1010\n",
    "   11    13     B  1011\n",
    "   12    14     C  1100\n",
    "   13    15     D  1101\n",
    "   14    16     E  1110\n",
    "   15    17     F  1111\n",
    "   16    20    10 10000\n",
    "   17    21    11 10001     \n",
    "    "
   ]
  },
  {
   "cell_type": "code",
   "execution_count": 34,
   "metadata": {},
   "outputs": [
    {
     "name": "stdout",
     "output_type": "stream",
     "text": [
      "    1     1     1     1\n",
      "    2     2     2    10\n",
      "    3     3     3    11\n",
      "    4     4     4   100\n",
      "    5     5     5   101\n",
      "    6     6     6   110\n",
      "    7     7     7   111\n",
      "    8    10     8  1000\n",
      "    9    11     9  1001\n",
      "   10    12     A  1010\n",
      "   11    13     B  1011\n",
      "   12    14     C  1100\n",
      "   13    15     D  1101\n",
      "   14    16     E  1110\n",
      "   15    17     F  1111\n",
      "   16    20    10 10000\n",
      "   17    21    11 10001\n"
     ]
    }
   ],
   "source": [
    "n =17# int(input())\n",
    "w = len(\"{0:b}\".format(n))\n",
    "for i in range(1,n+1):\n",
    "  print (\"{0:{width}d} {0:{width}o} {0:{width}X} {0:{width}b}\".format(i, width=w))"
   ]
  },
  {
   "cell_type": "code",
   "execution_count": null,
   "metadata": {},
   "outputs": [],
   "source": [
    "def print_formatted(number):\n",
    "    # your code goes here\n",
    "    w = len(\"{0:b}\".format(number))\n",
    "    for i in range(1,number+1):\n",
    "      print (\"{0:{width}d} {0:{width}o} {0:{width}X} {0:{width}b}\".format(i, width=w))\n",
    "if __name__ == '__main__':\n",
    "  #  n = int(input())\n",
    "    print_formatted(n)"
   ]
  },
  {
   "cell_type": "markdown",
   "metadata": {},
   "source": [
    "## Alphabet rangoli"
   ]
  },
  {
   "cell_type": "code",
   "execution_count": null,
   "metadata": {},
   "outputs": [],
   "source": [
    "You are given an integer,N . Your task is to print an alphabet rangoli of size N . \n",
    "(Rangoli is a form of Indian folk art based on creation of patterns.)\n",
    "\n",
    "Different sizes of alphabet rangoli are shown below:"
   ]
  },
  {
   "cell_type": "code",
   "execution_count": 42,
   "metadata": {},
   "outputs": [
    {
     "name": "stdout",
     "output_type": "stream",
     "text": [
      "--------e--------\n",
      "------e-d-e------\n",
      "----e-d-c-d-e----\n",
      "--e-d-c-b-c-d-e--\n",
      "e-d-c-b-a-b-c-d-e\n",
      "--e-d-c-b-c-d-e--\n",
      "----e-d-c-d-e----\n",
      "------e-d-e------\n",
      "--------e--------\n"
     ]
    }
   ],
   "source": [
    "size=5\n",
    "def print_rangoli(size):\n",
    "    import string\n",
    "    alpha = string.ascii_lowercase\n",
    "    l=[]\n",
    "    for i in range(size):\n",
    "        s = '-'.join(alpha[i:size])\n",
    "        l.append((s[::-1]+s[1:]).center(4*size-3,'-'))\n",
    "    b=reversed(l[1:])\n",
    "    print(\"\\n\".join(b), \"\\n\".join(l), sep = \"\\n\")\n",
    "\n",
    "print_rangoli(5)"
   ]
  },
  {
   "cell_type": "code",
   "execution_count": 48,
   "metadata": {},
   "outputs": [],
   "source": []
  },
  {
   "cell_type": "code",
   "execution_count": null,
   "metadata": {},
   "outputs": [],
   "source": []
  },
  {
   "cell_type": "code",
   "execution_count": null,
   "metadata": {},
   "outputs": [],
   "source": [
    "## solution\n",
    "import string\n",
    "def print_rangoli(size):\n",
    " \n",
    "    alpha = string.ascii_lowercase\n",
    "    ll = []\n",
    "    for i in range(size):\n",
    "        s = \"-\".join(alpha[i:size])\n",
    "        ll.append(s[::-1]+s[1:])\n",
    "\n",
    "    width = len(ll[0])\n",
    "\n",
    "    for i in range(n-1, 0, -1):\n",
    "        print(ll[i].center(width, \"-\"))\n",
    "\n",
    "    for i in range(size):\n",
    "        print(ll[i].center(width, \"-\"))\n",
    "\n",
    "if __name__ == '__main__':\n",
    "    #n = int(input())\n",
    "    print_rangoli(n)"
   ]
  },
  {
   "cell_type": "markdown",
   "metadata": {},
   "source": [
    "## capitalize"
   ]
  },
  {
   "cell_type": "code",
   "execution_count": 52,
   "metadata": {},
   "outputs": [
    {
     "name": "stdout",
     "output_type": "stream",
     "text": [
      "Hello World\n"
     ]
    }
   ],
   "source": [
    "s = 'hello world'\n",
    "for x in s[:].split():\n",
    "    s = s.replace(x, x.capitalize())\n",
    "print(s)"
   ]
  },
  {
   "cell_type": "code",
   "execution_count": 80,
   "metadata": {},
   "outputs": [],
   "source": [
    "\n",
    "def capitalization(w):\n",
    "  for k in s.split(\" \"):\n",
    "        print (\" \".join(k.capitalize() for k in w.split(\" \")))\n",
    "    "
   ]
  },
  {
   "cell_type": "code",
   "execution_count": 81,
   "metadata": {},
   "outputs": [
    {
     "name": "stdout",
     "output_type": "stream",
     "text": [
      "Hello World\n",
      "Hello World\n"
     ]
    }
   ],
   "source": [
    "s = 'hello world'\n",
    "capitalization(s)"
   ]
  },
  {
   "cell_type": "markdown",
   "metadata": {},
   "source": [
    "## List Comperhenssion"
   ]
  },
  {
   "cell_type": "code",
   "execution_count": null,
   "metadata": {},
   "outputs": [],
   "source": [
    "Let's learn about list comprehensions! You are given three integers  x,y and z representing the dimensions of \n",
    "a cuboid along with an integer . You have to print a list of all possible coordinates given by  \n",
    "on a 3D grid where the sum of  is not equal to . Here, \n",
    "\n",
    "Input Format\n",
    "\n",
    "Four integers x,y,z  and N each on four separate lines, respectively.\n",
    "\n",
    "Constraints\n",
    "\n",
    "Print the list in lexicographic increasing order.\n",
    "\n",
    "Sample Input 0\n",
    "\n",
    "1\n",
    "1\n",
    "1\n",
    "2\n",
    "Sample Output 0\n",
    "\n",
    "[[0, 0, 0], [0, 0, 1], [0, 1, 0], [1, 0, 0], [1, 1, 1]]"
   ]
  },
  {
   "cell_type": "code",
   "execution_count": 6,
   "metadata": {},
   "outputs": [
    {
     "name": "stdout",
     "output_type": "stream",
     "text": [
      "[[0, 0, 0], [0, 0, 1], [0, 1, 0], [1, 0, 0], [1, 1, 1]]\n"
     ]
    }
   ],
   "source": [
    "#input1=[1,1,1,2]\n",
    "x = 1\n",
    "y = 1\n",
    "z = 1\n",
    "n = 2\n",
    "print([[a,b,c] for a in range(x+1)  for b in range(y+1) for c in range(z+1) if a+b+c!=n])\n"
   ]
  },
  {
   "cell_type": "markdown",
   "metadata": {},
   "source": [
    "### Tuples"
   ]
  },
  {
   "cell_type": "code",
   "execution_count": null,
   "metadata": {},
   "outputs": [],
   "source": [
    "Input Format\n",
    "\n",
    "The first line contains an integer,n , denoting the number of elements in the tuple.\n",
    "The second line contains n space-separated integers describing the elements in tuple t.\n",
    "\n",
    "Output Format\n",
    "\n",
    "Print the result of hash(t).\n",
    "\n",
    "Sample Input 0\n",
    "\n",
    "2\n",
    "1 2\n",
    "Sample Output 0\n",
    "\n",
    "3713081631934410656"
   ]
  },
  {
   "cell_type": "code",
   "execution_count": 7,
   "metadata": {},
   "outputs": [
    {
     "name": "stdout",
     "output_type": "stream",
     "text": [
      "3713081631934410656\n"
     ]
    }
   ],
   "source": [
    "n=2\n",
    "list=[1,2]\n",
    "print(hash(tuple(list)))"
   ]
  },
  {
   "cell_type": "markdown",
   "metadata": {},
   "source": [
    "## validating Phone number"
   ]
  },
  {
   "cell_type": "code",
   "execution_count": null,
   "metadata": {},
   "outputs": [],
   "source": [
    "#A valid mobile number is a ten digit number starting with a 7,8 or 9.\n",
    "Sample Input\n",
    "\n",
    "2\n",
    "9587456281\n",
    "1252478965\n",
    "Sample Output\n",
    "YES\n",
    "NO"
   ]
  },
  {
   "cell_type": "code",
   "execution_count": null,
   "metadata": {},
   "outputs": [],
   "source": [
    "import re\n",
    "for _ in range(int(input())):\n",
    "    line =[9587456281,1252478965]\n",
    "    if re.match(r\"^[789]{1}\\d{9}$\", line):\n",
    "        print(\"YES\")\n",
    "    else:\n",
    "        print(\"NO\")"
   ]
  },
  {
   "cell_type": "markdown",
   "metadata": {},
   "source": [
    "A valid email address meets the following criteria:\n",
    "\n",
    "It's composed of a username, domain name, and extension assembled in this format: username@domain.extension\n",
    "The username starts with an English alphabetical character, and any subsequent characters consist of one or more of the following: alphanumeric characters, -,., and _.\n",
    "The domain and extension contain only English alphabetical characters.\n",
    "The extension is , , or  characters in length.\n",
    "Given  pairs of names and email addresses as input, print each name and email address pair having a valid email address on a new line.\n",
    "\n",
    "Hint: Try using Email.utils() to complete this challenge. For example, this code:"
   ]
  },
  {
   "cell_type": "code",
   "execution_count": null,
   "metadata": {},
   "outputs": [],
   "source": [
    "import email.utils\n",
    "print email.utils.parseaddr('DOSHI <DOSHI@hackerrank.com>')\n",
    "print email.utils.formataddr(('DOSHI', 'DOSHI@hackerrank.com'))"
   ]
  },
  {
   "cell_type": "code",
   "execution_count": null,
   "metadata": {},
   "outputs": [],
   "source": []
  }
 ],
 "metadata": {
  "kernelspec": {
   "display_name": "Python 3",
   "language": "python",
   "name": "python3"
  },
  "language_info": {
   "codemirror_mode": {
    "name": "ipython",
    "version": 3
   },
   "file_extension": ".py",
   "mimetype": "text/x-python",
   "name": "python",
   "nbconvert_exporter": "python",
   "pygments_lexer": "ipython3",
   "version": "3.6.7"
  }
 },
 "nbformat": 4,
 "nbformat_minor": 2
}
