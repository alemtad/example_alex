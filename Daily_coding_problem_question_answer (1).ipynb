{
 "cells": [
  {
   "cell_type": "markdown",
   "metadata": {},
   "source": [
    "#### Daily coding problem"
   ]
  },
  {
   "cell_type": "markdown",
   "metadata": {},
   "source": [
    "Problem 1\n",
    "Given a list of numbers, return whether any two sums to k. For example, given [10, 15, 3, 7] and k of 17, return true since 10 + 7 is 17.\n",
    "Bonus: Can you do this in one pass?\n"
   ]
  },
  {
   "cell_type": "code",
   "execution_count": 124,
   "metadata": {},
   "outputs": [
    {
     "name": "stdout",
     "output_type": "stream",
     "text": [
      "10 plus 7=17 True 10 plus 15=25 True\n",
      "{10, 3, 15}\n"
     ]
    }
   ],
   "source": [
    "list1=[10, 15, 3, 7]\n",
    "kk=set()\n",
    "def sum_k(list_1,k):\n",
    "    for i in list_1:\n",
    "        if k-i in kk:\n",
    "            return True\n",
    "        kk.add(i)\n",
    "        \n",
    "    #return False\n",
    "print('10 plus 7=17',sum_k(list1,17),  '10 plus 15=25',sum_k(list1,10) )\n",
    "print(kk)"
   ]
  },
  {
   "cell_type": "code",
   "execution_count": 48,
   "metadata": {},
   "outputs": [
    {
     "name": "stdout",
     "output_type": "stream",
     "text": [
      "10 plus 7=17 True 10 plus 15=25 True\n",
      "[10, 15, 3]\n"
     ]
    }
   ],
   "source": [
    "list1=[10, 15, 3, 7]\n",
    "kk=[]\n",
    "def sum_k(list_1,k):\n",
    "    for i in list_1:\n",
    "        if k-i in kk:\n",
    "            return True\n",
    "        kk.append(i)\n",
    "    return False\n",
    "print('10 plus 7=17',sum_k(list1,17),  '10 plus 15=25',sum_k(list1,25) )\n",
    "print(kk)"
   ]
  },
  {
   "cell_type": "markdown",
   "metadata": {},
   "source": [
    "Problem 2\n",
    "This problem was asked by Uber.\n",
    "\n",
    "Given an array of integers, return a new array such that each element at index i of the new array is the product of all the numbers in the original array except the one at i.\n",
    "\n",
    "For example, if our input was [1, 2, 3, 4, 5], the expected output would be [120, 60, 40, 30, 24]. If our input was [3, 2, 1], the expected output would be [2, 3, 6].\n",
    "\n",
    "Follow-up: what if you can't use division?"
   ]
  },
  {
   "cell_type": "code",
   "execution_count": 66,
   "metadata": {},
   "outputs": [],
   "source": [
    "def get_factors(array):\n",
    "    cumulative_product = 1\n",
    "    right_prod_array = list()\n",
    "    for num in array:\n",
    "        cumulative_product *= num\n",
    "        right_prod_array.append(cumulative_product)\n",
    "\n",
    "    cumulative_product = 1\n",
    "    left_prod_array = list()\n",
    "    for num in array[::-1]:\n",
    "        cumulative_product *= num\n",
    "        left_prod_array.append(cumulative_product)\n",
    "    left_prod_array = left_prod_array[::-1]\n",
    "\n",
    "    output_array = list()\n",
    "    for i in range(len(array)):\n",
    "        num = None\n",
    "        if i == 0:\n",
    "            num = left_prod_array[i + 1]\n",
    "        elif i == len(array) - 1:\n",
    "            num = right_prod_array[i - 1]\n",
    "        else:\n",
    "            num = right_prod_array[i - 1] * left_prod_array[i + 1]\n",
    "        output_array.append(num)\n",
    "    \n",
    "    return output_array\n",
    "\n",
    "\n",
    "assert get_factors([1, 2, 3, 4, 5]) == [120, 60, 40, 30, 24]\n",
    "assert get_factors([3, 2, 1]) == [2, 3, 6]"
   ]
  },
  {
   "cell_type": "code",
   "execution_count": 67,
   "metadata": {},
   "outputs": [
    {
     "data": {
      "text/plain": [
       "[120, 60, 40, 30, 24]"
      ]
     },
     "execution_count": 67,
     "metadata": {},
     "output_type": "execute_result"
    }
   ],
   "source": [
    "get_factors([1, 2, 3, 4, 5])"
   ]
  },
  {
   "cell_type": "markdown",
   "metadata": {},
   "source": [
    "Problem 3\n",
    "This problem was asked by Google.\n",
    "\n",
    "Given the root to a binary tree, implement serialize(root), which serializes the tree into a string, and deserialize(s), which deserializes the string back into the tree."
   ]
  },
  {
   "cell_type": "code",
   "execution_count": 68,
   "metadata": {},
   "outputs": [
    {
     "name": "stdout",
     "output_type": "stream",
     "text": [
      "{\"data\": \"a\", \"left\": \"{\\\"data\\\": \\\"b\\\", \\\"left\\\": \\\"{\\\\\\\"data\\\\\\\": \\\\\\\"d\\\\\\\"}\\\", \\\"right\\\": \\\"{\\\\\\\"data\\\\\\\": \\\\\\\"e\\\\\\\"}\\\"}\", \"right\": \"{\\\"data\\\": \\\"c\\\", \\\"left\\\": \\\"{\\\\\\\"data\\\\\\\": \\\\\\\"f\\\\\\\"}\\\", \\\"right\\\": \\\"{\\\\\\\"data\\\\\\\": \\\\\\\"g\\\\\\\"}\\\"}\"}\n"
     ]
    }
   ],
   "source": [
    "import json\n",
    "class Node:\n",
    "    def __init__(self, data):\n",
    "        self.data = data\n",
    "        self.left = None\n",
    "        self.right = None\n",
    "    \n",
    "    def __repr__(self):\n",
    "        return str(self.data)\n",
    "\n",
    "def serialize(root):\n",
    "    if not root:\n",
    "        return None\n",
    "\n",
    "    serialized_tree_map = dict()\n",
    "    serialized_left = serialize(root.left)\n",
    "    serialized_right = serialize(root.right)\n",
    "\n",
    "    serialized_tree_map['data'] = root.data\n",
    "    if serialized_left:\n",
    "        serialized_tree_map['left'] = serialized_left\n",
    "    if serialized_right:\n",
    "        serialized_tree_map['right'] = serialized_right\n",
    "\n",
    "    return json.dumps(serialized_tree_map)\n",
    "\n",
    "\n",
    "def deserialize(s):\n",
    "    serialized_tree_map = json.loads(s)\n",
    "\n",
    "    node = Node(serialized_tree_map['data'])\n",
    "    if 'left' in serialized_tree_map:\n",
    "        node.left = deserialize(serialized_tree_map['left'])\n",
    "    if 'right' in serialized_tree_map:\n",
    "        node.right = deserialize(serialized_tree_map['right'])\n",
    "\n",
    "    return node\n",
    "\n",
    "\n",
    "node_a = Node('a')\n",
    "node_b = Node('b')\n",
    "node_c = Node('c')\n",
    "node_d = Node('d')\n",
    "node_e = Node('e')\n",
    "node_f = Node('f')\n",
    "node_g = Node('g')\n",
    "node_a.left = node_b\n",
    "node_a.right = node_c\n",
    "node_b.left = node_d\n",
    "node_b.right = node_e\n",
    "node_c.left = node_f\n",
    "node_c.right = node_g\n",
    "\n",
    "serialized_a = serialize(node_a)\n",
    "print(serialized_a)\n",
    "\n",
    "deserialized_a = deserialize(serialized_a)\n",
    "assert str(deserialized_a) == \"a\""
   ]
  },
  {
   "cell_type": "code",
   "execution_count": 69,
   "metadata": {},
   "outputs": [
    {
     "data": {
      "text/plain": [
       "'a'"
      ]
     },
     "execution_count": 69,
     "metadata": {},
     "output_type": "execute_result"
    }
   ],
   "source": [
    "str(deserialized_a)"
   ]
  },
  {
   "cell_type": "markdown",
   "metadata": {},
   "source": [
    "Problem 4\n",
    "This problem was asked by Stripe.\n",
    "\n",
    "Given an array of integers, find the first missing positive integer in linear time and constant space. In other words, find the lowest positive integer that does not exist in the array. The array can contain duplicates and negative numbers as well.\n",
    "\n",
    "For example, the input [3, 4, -1, 1] should give 2. The input [1, 2, 0] should give 3.\n",
    "\n",
    "You can modify the input array in-place."
   ]
  },
  {
   "cell_type": "code",
   "execution_count": 70,
   "metadata": {},
   "outputs": [],
   "source": [
    "def get_positive_subset(array):\n",
    "    i = 0\n",
    "    j = len(array) - 1\n",
    "\n",
    "    while i < j:\n",
    "        if array[i] > 0 and array[j] <= 0:\n",
    "            array[i], array[j] = array[j], array[i]\n",
    "            i += 1\n",
    "            j -= 1\n",
    "        elif array[i] > 0:\n",
    "            j -= 1\n",
    "        else:\n",
    "            i += 1\n",
    "\n",
    "    # print(\"i: {}, j: {}\".format(i, j))\n",
    "    # print(\"partitioned_array:\", array)\n",
    "    pivot = i if array[i] > 0 else i + 1\n",
    "    return array[pivot:]\n",
    "\n",
    "\n",
    "def get_missing_number(array):\n",
    "    if not array:\n",
    "        return 1\n",
    "\n",
    "    array = get_positive_subset(array)\n",
    "    array_len = len(array)\n",
    "    # print(\"array: {}\".format(array))\n",
    "\n",
    "    if not array:\n",
    "        return 1\n",
    "\n",
    "    if max(array) == len(array):\n",
    "        return max(array) + 1\n",
    "\n",
    "    for num in array:\n",
    "        current_num = abs(num)\n",
    "        if (current_num - 1) < array_len:\n",
    "            array[current_num - 1] *= -1\n",
    "    # print(\"mutated_array: {}\".format(array))\n",
    "\n",
    "    for i, num in enumerate(array):\n",
    "        if num > 0:\n",
    "            return i + 1\n",
    "\n",
    "\n",
    "assert get_missing_number([3, 4, -1, 1]) == 2\n",
    "assert get_missing_number([1, 2, 0]) == 3\n",
    "assert get_missing_number([1, 2, 5]) == 3\n",
    "assert get_missing_number([1]) == 2\n",
    "assert get_missing_number([-1, -2]) == 1\n",
    "assert get_missing_number([]) == 1"
   ]
  },
  {
   "cell_type": "code",
   "execution_count": 72,
   "metadata": {},
   "outputs": [
    {
     "data": {
      "text/plain": [
       "2"
      ]
     },
     "execution_count": 72,
     "metadata": {},
     "output_type": "execute_result"
    }
   ],
   "source": [
    "get_missing_number([3, 4, -1, 1])"
   ]
  },
  {
   "cell_type": "markdown",
   "metadata": {},
   "source": [
    "Problem 5\n",
    "This problem was asked by Jane Street.\n",
    "\n",
    "cons(a, b) constructs a pair, and car(pair) and cdr(pair) returns the first and last element of that pair. For example, car(cons(3, 4)) returns 3, and cdr(cons(3, 4)) returns 4.\n",
    "\n",
    "Given this implementation of cons:\n",
    "\n",
    "def cons(a, b):\n",
    "    return lambda f : f(a, b)\n",
    "Implement car and cdr."
   ]
  },
  {
   "cell_type": "code",
   "execution_count": 74,
   "metadata": {},
   "outputs": [],
   "source": [
    "def cons(a, b):\n",
    "    return lambda f: f(a, b)\n",
    "\n",
    "def car(f):\n",
    "    z = lambda x, y: x\n",
    "    return f(z)\n",
    "\n",
    "def cdr(f):\n",
    "    z = lambda x, y: y\n",
    "    return f(z)\n",
    "\n",
    "\n",
    "assert car(cons(3, 4)) == 3\n",
    "assert cdr(cons(3, 4)) == 4"
   ]
  },
  {
   "cell_type": "markdown",
   "metadata": {},
   "source": [
    "Problem 6\n",
    "This problem was asked by Google.\n",
    "\n",
    "An XOR linked list is a more memory efficient doubly linked list. Instead of each node holding next and prev fields, it holds a field named both, which is an XOR of the next node and the previous node. Implement an XOR linked list; it has an add(element) which adds the element to the end, and a get(index) which returns the node at index.\n",
    "\n",
    "If using a language that has no pointers (such as Python), you can assume you have access to get_pointer and dereference_pointer functions that converts between nodes and memory addresses."
   ]
  },
  {
   "cell_type": "code",
   "execution_count": 76,
   "metadata": {},
   "outputs": [],
   "source": [
    "class Node:\n",
    "    def __init__(self, data):\n",
    "        self.data = data\n",
    "        self.both = id(data)\n",
    "\n",
    "    def __repr__(self):\n",
    "        return str(self.data)\n",
    "\n",
    "a = Node(\"a\")\n",
    "b = Node(\"b\")\n",
    "c = Node(\"c\")\n",
    "d = Node(\"d\")\n",
    "e = Node(\"e\")\n",
    "\n",
    "# id_map simulates object pointer values\n",
    "id_map = dict()\n",
    "id_map[id(\"a\")] = a\n",
    "id_map[id(\"b\")] = b\n",
    "id_map[id(\"c\")] = c\n",
    "id_map[id(\"d\")] = d\n",
    "id_map[id(\"e\")] = e\n",
    "\n",
    "\n",
    "class LinkedList:\n",
    "\n",
    "    def __init__(self, node):\n",
    "        self.head = node\n",
    "        self.tail = node\n",
    "        self.head.both = 0\n",
    "        self.tail.both = 0\n",
    "\n",
    "    def add(self, element):\n",
    "        self.tail.both ^= id(element.data)\n",
    "        element.both = id(self.tail.data)\n",
    "        self.tail = element\n",
    "\n",
    "    def get(self, index):\n",
    "        prev_node_address = 0\n",
    "        result_node = self.head\n",
    "        for i in range(index):\n",
    "            next_node_address = prev_node_address ^ result_node.both\n",
    "            prev_node_address = id(result_node.data)\n",
    "            result_node = id_map[next_node_address]\n",
    "        return result_node.data\n",
    "\n",
    "\n",
    "llist = LinkedList(c)\n",
    "llist.add(d)\n",
    "llist.add(e)\n",
    "llist.add(a)\n",
    "\n",
    "assert llist.get(0) == \"c\"\n",
    "assert llist.get(1) == \"d\"\n",
    "assert llist.get(2) == \"e\"\n",
    "assert llist.get(3) == \"a\""
   ]
  },
  {
   "cell_type": "code",
   "execution_count": 77,
   "metadata": {},
   "outputs": [
    {
     "data": {
      "text/plain": [
       "'c'"
      ]
     },
     "execution_count": 77,
     "metadata": {},
     "output_type": "execute_result"
    }
   ],
   "source": [
    "llist.get(0)"
   ]
  },
  {
   "cell_type": "markdown",
   "metadata": {},
   "source": [
    "Problem 7\n",
    "This problem was asked by Facebook.\n",
    "\n",
    "Given the mapping a = 1, b = 2, ... z = 26, and an encoded message, count the number of ways it can be decoded.\n",
    "\n",
    "For example, the message '111' would give 3, since it could be decoded as 'aaa', 'ka', and 'ak'.\n",
    "\n",
    "You can assume that the messages are decodable. For example, '001' is not allowed."
   ]
  },
  {
   "cell_type": "code",
   "execution_count": 80,
   "metadata": {},
   "outputs": [],
   "source": [
    "def is_char(code):\n",
    "    return 0 if code > 26 or code < 1 else 1\n",
    "\n",
    "def get_message_count(code):\n",
    "    code_str = str(code)\n",
    "    if len(code_str) == 1:\n",
    "        count = 1\n",
    "    elif len(code_str) == 2:\n",
    "        count = 1 + is_char(code)\n",
    "    else:\n",
    "        count = get_message_count(int(code_str[1:]))\n",
    "        if is_char(int(code_str[:2])):\n",
    "            count += get_message_count(int(code_str[2:]))\n",
    "\n",
    "    return count\n",
    "\n",
    "\n",
    "assert get_message_count(81) == 1\n",
    "assert get_message_count(11) == 2\n",
    "assert get_message_count(111) == 3\n",
    "assert get_message_count(1111) == 5\n",
    "assert get_message_count(1311) == 4"
   ]
  },
  {
   "cell_type": "code",
   "execution_count": 81,
   "metadata": {},
   "outputs": [
    {
     "data": {
      "text/plain": [
       "1"
      ]
     },
     "execution_count": 81,
     "metadata": {},
     "output_type": "execute_result"
    }
   ],
   "source": [
    "get_message_count(81)"
   ]
  },
  {
   "cell_type": "markdown",
   "metadata": {},
   "source": [
    "Problem 8\n",
    "This problem was asked by Google.\n",
    "\n",
    "A unival tree (which stands for \"universal value\") is a tree where all nodes under it have the same value.\n",
    "\n",
    "Given the root to a binary tree, count the number of unival subtrees.\n",
    "\n",
    "For example, the following tree has 5 unival subtrees:\n",
    "\n",
    "   0\n",
    "  / \\\n",
    " 1   0\n",
    "    / \\\n",
    "   1   0\n",
    "  / \\\n",
    " 1   1"
   ]
  },
  {
   "cell_type": "code",
   "execution_count": 82,
   "metadata": {},
   "outputs": [],
   "source": [
    "class Node:\n",
    "    def __init__(self, data):\n",
    "        self.data = data\n",
    "        self.left = None\n",
    "        self.right = None\n",
    "    \n",
    "    def __repr__(self):\n",
    "        return str(self.data)\n",
    "\n",
    "def count_unival_trees(root):\n",
    "    if not root:\n",
    "        return 0\n",
    "    elif not root.left and not root.right:\n",
    "        return 1\n",
    "    elif not root.left and root.data == root.right.data:\n",
    "        return 1 + count_unival_trees(root.right)\n",
    "    elif not root.right and root.data == root.left.data:\n",
    "        return 1 + count_unival_trees(root.left)\n",
    "    \n",
    "    child_counts = count_unival_trees(root.left) + count_unival_trees(root.right)\n",
    "    current_node_count = 0\n",
    "    if root.data == root.left.data and root.data == root.left.data:\n",
    "        current_node_count = 1\n",
    "\n",
    "    return current_node_count + child_counts\n",
    "\n",
    "\n",
    "node_a = Node('0')\n",
    "node_b = Node('1')\n",
    "node_c = Node('0')\n",
    "node_d = Node('1')\n",
    "node_e = Node('0')\n",
    "node_f = Node('1')\n",
    "node_g = Node('1')\n",
    "node_a.left = node_b\n",
    "node_a.right = node_c\n",
    "node_c.left = node_d\n",
    "node_c.right = node_e\n",
    "node_d.left = node_f\n",
    "node_d.right = node_g\n",
    "\n",
    "assert count_unival_trees(None) == 0\n",
    "assert count_unival_trees(node_a) == 5\n",
    "assert count_unival_trees(node_c) == 4\n",
    "assert count_unival_trees(node_g) == 1\n",
    "assert count_unival_trees(node_d) == 3"
   ]
  },
  {
   "cell_type": "code",
   "execution_count": 83,
   "metadata": {},
   "outputs": [
    {
     "data": {
      "text/plain": [
       "0"
      ]
     },
     "execution_count": 83,
     "metadata": {},
     "output_type": "execute_result"
    }
   ],
   "source": [
    "count_unival_trees(None)"
   ]
  },
  {
   "cell_type": "markdown",
   "metadata": {},
   "source": [
    "This problem was asked by Airbnb.\n",
    "\n",
    "Given a list of integers, write a function that returns the largest sum of non-adjacent numbers. Numbers can be 0 or negative.\n",
    "\n",
    "For example, [2, 4, 6, 8] should return 12, since we pick 4 and 8. [5, 1, 1, 5] should return 10, since we pick 5 and 5."
   ]
  },
  {
   "cell_type": "code",
   "execution_count": 90,
   "metadata": {},
   "outputs": [
    {
     "name": "stdout",
     "output_type": "stream",
     "text": [
      "12\n",
      "10\n"
     ]
    }
   ],
   "source": [
    "import sys\n",
    "\n",
    "def get_largest_non_adj_sum(array):\n",
    "    previous, largest = 0, 0\n",
    "    for amount in array:\n",
    "       # print(\"amount: {}; previous: {}; largest: {}\".format(amount, previous, largest))\n",
    "        previous, largest = largest, max(largest, previous + amount)\n",
    "        #print(\"new_previous: {}; new_largest: {}\".format(previous, largest))\n",
    "    return largest\n",
    "\n",
    "print(get_largest_non_adj_sum([2, 4, 6, 8]))\n",
    "print(get_largest_non_adj_sum([5, 1, 1, 5]))"
   ]
  },
  {
   "cell_type": "markdown",
   "metadata": {},
   "source": [
    "Problem 10\n",
    "This problem was asked by Apple.\n",
    "Implement a job scheduler which takes in a function f and an integer n, and calls f after n milliseconds."
   ]
  },
  {
   "cell_type": "code",
   "execution_count": 92,
   "metadata": {},
   "outputs": [
    {
     "name": "stdout",
     "output_type": "stream",
     "text": [
      "hello\n"
     ]
    }
   ],
   "source": [
    "from time import sleep\n",
    "\n",
    "def sample_function():\n",
    "    print(\"hello\")\n",
    "\n",
    "# def schedule_function(f, delay_in_ms):\n",
    "    delay_in_s = delay_in_ms / 1000\n",
    "    sleep(delay_in_s)\n",
    "    f()\n",
    "\n",
    "schedule_function(sample_function, 10000)"
   ]
  },
  {
   "cell_type": "markdown",
   "metadata": {},
   "source": [
    "Problem 11\n",
    "This problem was asked by Twitter.\n",
    "\n",
    "Implement an autocomplete system. That is, given a query string s and a set of all possible query strings, return all strings in the set that have s as a prefix.\n",
    "\n",
    "For example, given the query string de and the set of strings [dog, deer, deal], return [deer, deal].\n",
    "\n",
    "Hint: Try preprocessing the dictionary into a more efficient data structure to speed up queries."
   ]
  },
  {
   "cell_type": "code",
   "execution_count": 93,
   "metadata": {},
   "outputs": [],
   "source": [
    "def add_to_trie(s, trie):\n",
    "    if not s:\n",
    "        return trie\n",
    "\n",
    "    character = s[0]\n",
    "    if character not in trie:\n",
    "        trie[character] = dict()\n",
    "    \n",
    "    trie[character] = add_to_trie(s[1:], trie[character])\n",
    "\n",
    "    return trie\n",
    "\n",
    "def get_dictionary_trie(dictionary):\n",
    "    trie = dict()\n",
    "    for word in dictionary:\n",
    "        trie = add_to_trie(word, trie)\n",
    "\n",
    "    return trie\n",
    "\n",
    "def get_possible_completions(trie):\n",
    "    possible_completions = list()\n",
    "    for character in trie:\n",
    "        if trie[character]:\n",
    "            child_completions = get_possible_completions(trie[character])\n",
    "            for child_completion in child_completions:\n",
    "                possible_completions.append(character + child_completion)\n",
    "        else:\n",
    "            possible_completions.append(character)\n",
    "        \n",
    "    return possible_completions\n",
    "\n",
    "def get_autocomplete_suggestions(s, dictionary):\n",
    "    trie = get_dictionary_trie(dictionary)\n",
    "\n",
    "    current_trie = trie\n",
    "    for character in s:\n",
    "        if character not in current_trie:\n",
    "            return []\n",
    "        current_trie = current_trie[character]\n",
    "\n",
    "    completions = get_possible_completions(current_trie)\n",
    "    completions = [s + x for x in completions]\n",
    "\n",
    "    return completions \n",
    "\n",
    "assert get_autocomplete_suggestions(\"de\", [\"dog\", \"deer\", \"deal\"]) == [\"deer\", \"deal\"]\n",
    "assert get_autocomplete_suggestions(\"ca\", [\"cat\", \"car\", \"cer\"]) == [\"cat\", \"car\"]\n",
    "assert get_autocomplete_suggestions(\"ae\", [\"cat\", \"car\", \"cer\"]) == []\n",
    "assert get_autocomplete_suggestions(\"ae\", []) == []"
   ]
  },
  {
   "cell_type": "markdown",
   "metadata": {},
   "source": [
    "Problem 12\n",
    "This problem was asked by Amazon.\n",
    "\n",
    "There exists a staircase with N steps, and you can climb up either 1 or 2 steps at a time. Given N, write a function that returns the number of unique ways you can climb the staircase. The order of the steps matters.\n",
    "\n",
    "For example, if N is 4, then there are 5 unique ways:"
   ]
  },
  {
   "cell_type": "code",
   "execution_count": null,
   "metadata": {},
   "outputs": [],
   "source": [
    "1, 1, 1, 1\n",
    "2, 1, 1\n",
    "1, 2, 1\n",
    "1, 1, 2\n",
    "2, 2"
   ]
  },
  {
   "cell_type": "markdown",
   "metadata": {},
   "source": [
    "What if, instead of being able to climb 1 or 2 steps at a time, you could climb any number from a set of positive integers X? For example, if X = {1, 3, 5}, you could climb 1, 3, or 5 steps at a time."
   ]
  },
  {
   "cell_type": "code",
   "execution_count": null,
   "metadata": {},
   "outputs": [],
   "source": [
    "## f(n) = f(n - 1) + f(n - 2). That's just the Fibonacci sequence!\n",
    "def staircase(n):\n",
    "    if n <= 1:\n",
    "        return 1\n",
    "    return staircase(n - 1) + staircase(n - 2)"
   ]
  },
  {
   "cell_type": "code",
   "execution_count": null,
   "metadata": {},
   "outputs": [],
   "source": [
    "staircase(4)"
   ]
  },
  {
   "cell_type": "code",
   "execution_count": null,
   "metadata": {},
   "outputs": [],
   "source": [
    "## or\n",
    "def get_step_combos(num_steps, step_sizes):\n",
    "    combos = list()\n",
    "    \n",
    "    if num_steps < min(step_sizes):\n",
    "        return combos\n",
    "    \n",
    "    for step_size in step_sizes:\n",
    "        if num_steps == step_size:\n",
    "            combos.append([step_size])\n",
    "        elif num_steps > step_size:\n",
    "            child_combos = get_step_combos(num_steps - step_size, step_sizes)\n",
    "            for child_combo in child_combos:\n",
    "                combos.append([step_size] + child_combo)\n",
    "    return combos\n",
    "\n",
    "\n",
    "assert get_step_combos(4, [1, 2]) == \\\n",
    "    [[1, 1, 1, 1], [1, 1, 2], [1, 2, 1], [2, 1, 1], [2, 2]]\n",
    "assert get_step_combos(4, [1, 2, 3]) == \\\n",
    "    [[1, 1, 1, 1], [1, 1, 2], [1, 2, 1], [1, 3], [2, 1, 1], [2, 2], [3, 1]]"
   ]
  },
  {
   "cell_type": "code",
   "execution_count": 105,
   "metadata": {},
   "outputs": [
    {
     "data": {
      "text/plain": [
       "[[1, 1, 1, 1], [1, 1, 2], [1, 2, 1], [2, 1, 1], [2, 2]]"
      ]
     },
     "execution_count": 105,
     "metadata": {},
     "output_type": "execute_result"
    }
   ],
   "source": [
    "get_step_combos(4, [1, 2])"
   ]
  },
  {
   "cell_type": "code",
   "execution_count": null,
   "metadata": {},
   "outputs": [],
   "source": [
    "## or this is more faster than the above one \n",
    "def staircase(n):\n",
    "    a, b = 1, 2\n",
    "    for _ in range(n - 1):\n",
    "        a, b = b, a + b\n",
    "    return a\n",
    "staircase(4)"
   ]
  },
  {
   "cell_type": "markdown",
   "metadata": {},
   "source": [
    "Now, let's try to generalize what we've learned so that it works if you can take a number of steps from the set X. Similar reasoning tells us that if X = {1, 3, 5}, then our algorithm should be f(n) = f(n - 1) + f(n - 3) + f(n - 5). If n < 0, then we should return 0 since we can't start from a negative number of steps."
   ]
  },
  {
   "cell_type": "code",
   "execution_count": 101,
   "metadata": {},
   "outputs": [],
   "source": [
    "X={1,3,5}\n",
    "def staircase(n, X):\n",
    "    if n < 0:\n",
    "        return 0\n",
    "    elif n == 0:\n",
    "        return 1\n",
    "    else:\n",
    "        return sum(staircase(n - x, X) for x in X)\n",
    "        "
   ]
  },
  {
   "cell_type": "code",
   "execution_count": 103,
   "metadata": {},
   "outputs": [
    {
     "data": {
      "text/plain": [
       "3"
      ]
     },
     "execution_count": 103,
     "metadata": {},
     "output_type": "execute_result"
    }
   ],
   "source": [
    "staircase(4,X)"
   ]
  },
  {
   "cell_type": "markdown",
   "metadata": {},
   "source": [
    "Problem 13\n",
    "This problem was asked by Amazon.\n",
    "\n",
    "Given an integer k and a string s, find the length of the longest substring that contains at most k distinct characters.\n",
    "\n",
    "For example, given s = \"abcba\" and k = 2, the longest substring with k distinct characters is \"bcb\"."
   ]
  },
  {
   "cell_type": "code",
   "execution_count": 107,
   "metadata": {},
   "outputs": [],
   "source": [
    "def get_longest_sub_with_k_dist(s, k):\n",
    "    if not s:\n",
    "        return \"\"\n",
    "    elif len(s) <= k:\n",
    "        return s\n",
    "    elif k == 1:\n",
    "        return s[0]\n",
    "\n",
    "    distinct_char_count = 0\n",
    "    seen_chars = set()\n",
    "    candidate = None\n",
    "    remaining_string = None\n",
    "\n",
    "    # to keep track of where the second character occurred\n",
    "    first_char = s[0]\n",
    "    second_char_index = 0\n",
    "    while s[second_char_index] == first_char:\n",
    "        second_char_index += 1\n",
    "\n",
    "    candidate = s\n",
    "    for index, char in enumerate(s):\n",
    "        if char not in seen_chars:\n",
    "            seen_chars.add(char)\n",
    "            distinct_char_count += 1\n",
    "\n",
    "        if distinct_char_count > k:\n",
    "            candidate = s[:index]\n",
    "            remaining_string = s[second_char_index:]\n",
    "            break\n",
    "            \n",
    "    longest_remaining = get_longest_sub_with_k_dist(remaining_string, k)\n",
    "    \n",
    "    longest_substring = None\n",
    "    if len(candidate) < len(longest_remaining):\n",
    "        longest_substring = longest_remaining\n",
    "    else:\n",
    "        longest_substring = candidate\n",
    "    return longest_substring\n",
    "\n",
    "\n",
    "assert get_longest_sub_with_k_dist(\"abcba\", 2) == \"bcb\"\n",
    "assert get_longest_sub_with_k_dist(\"abccbba\", 2) == \"bccbb\"\n",
    "assert get_longest_sub_with_k_dist(\"abcbbbabbcbbadd\", 2) == \"bbbabb\"\n",
    "assert get_longest_sub_with_k_dist(\"abcbbbaaaaaaaaaabbcbbadd\", 1) == \"a\"\n",
    "assert get_longest_sub_with_k_dist(\"abccbba\", 3) == \"abccbba\"\n",
    "    "
   ]
  },
  {
   "cell_type": "code",
   "execution_count": 108,
   "metadata": {},
   "outputs": [
    {
     "data": {
      "text/plain": [
       "'bcb'"
      ]
     },
     "execution_count": 108,
     "metadata": {},
     "output_type": "execute_result"
    }
   ],
   "source": [
    "get_longest_sub_with_k_dist(\"abcba\", 2)"
   ]
  },
  {
   "cell_type": "markdown",
   "metadata": {},
   "source": [
    "Problem 14\n",
    "This problem was asked by Google.\n",
    "\n",
    "The area of a circle is defined as r^2. Estimate \\pi to 3 decimal places using a Monte Carlo method.\n",
    "\n",
    "Hint: The basic equation of a circle is x^2 + y^2 = r^2."
   ]
  },
  {
   "cell_type": "code",
   "execution_count": 110,
   "metadata": {},
   "outputs": [],
   "source": [
    "from random import random\n",
    "radius = 2\n",
    "\n",
    "\n",
    "def estimate_pi(num_random_tests):\n",
    "    pi_counter = 0\n",
    "    rsquared = radius ** 2\n",
    "    for _ in range(num_random_tests):\n",
    "        x_rand = random() * radius\n",
    "        y_rand = random() * radius\n",
    "        if (x_rand ** 2) + (y_rand ** 2) < rsquared:\n",
    "            pi_counter += 1\n",
    "\n",
    "    return 4 * pi_counter / num_random_tests\n",
    "\n",
    "\n",
    "assert round(estimate_pi(100000000), 3) == 3.141"
   ]
  },
  {
   "cell_type": "code",
   "execution_count": 111,
   "metadata": {},
   "outputs": [
    {
     "data": {
      "text/plain": [
       "3.142"
      ]
     },
     "execution_count": 111,
     "metadata": {},
     "output_type": "execute_result"
    }
   ],
   "source": [
    "round(estimate_pi(100000000), 3)"
   ]
  },
  {
   "cell_type": "markdown",
   "metadata": {},
   "source": [
    "This problem was asked by Facebook.\n",
    "\n",
    "Given a stream of elements too large to store in memory, pick a random element from the stream with uniform probability."
   ]
  },
  {
   "cell_type": "code",
   "execution_count": 112,
   "metadata": {},
   "outputs": [
    {
     "name": "stdout",
     "output_type": "stream",
     "text": [
      "1\n",
      "Random element of the first 1 is 0\n",
      "2\n",
      "Random element of the first 2 is 1\n",
      "3\n",
      "Random element of the first 3 is 2\n",
      "4\n",
      "Random element of the first 4 is 2\n",
      "5\n",
      "Random element of the first 5 is 2\n",
      "6\n",
      "Random element of the first 6 is 2\n",
      "7\n",
      "Random element of the first 7 is 2\n",
      "8\n",
      "Random element of the first 8 is 2\n",
      "9\n",
      "Random element of the first 9 is 8\n",
      "10\n",
      "Random element of the first 10 is 8\n"
     ]
    }
   ],
   "source": [
    "from random import random\n",
    "\n",
    "count_so_far = 0\n",
    "result = None\n",
    "\n",
    "\n",
    "def pick_random_element(x):\n",
    "    global count_so_far, result\n",
    "    count_so_far += 1\n",
    "\n",
    "    print(count_so_far)\n",
    "\n",
    "    if count_so_far == 1:\n",
    "        result = x\n",
    "    else:\n",
    "        random_value = int(count_so_far * random())\n",
    "        if random_value == count_so_far - 1:\n",
    "            result = x\n",
    "\n",
    "    return result\n",
    "\n",
    "\n",
    "sample_stream = [0, 1, 2, 3, 4, 5, 6, 7, 8, 9]\n",
    "for index, element in enumerate(sample_stream):\n",
    "    random_element = pick_random_element(element)\n",
    "    print(\"Random element of the first {} is {}\".format(index + 1, random_element))"
   ]
  },
  {
   "cell_type": "markdown",
   "metadata": {},
   "source": [
    "Problem 16\n",
    "This problem was asked by Twitter.\n",
    "\n",
    "You run an e-commerce website and want to record the last N order ids in a log. Implement a data structure to accomplish this, with the following API:\n",
    "\n",
    "record(order_id): adds the order_id to the log get_last(i): gets the ith last element from the log. i is guaranteed to be smaller than or equal to N. You should be as efficient with time and space as possible."
   ]
  },
  {
   "cell_type": "code",
   "execution_count": 113,
   "metadata": {},
   "outputs": [],
   "source": [
    "class OrderLog:\n",
    "    def __init__(self, size):\n",
    "        self.log = list()\n",
    "        self.size = size\n",
    "\n",
    "    def __repr__(self):\n",
    "        return str(self.log)\n",
    "\n",
    "    def record(self, order_id):\n",
    "        self.log.append(order_id)\n",
    "        if len(self.log) > self.size:\n",
    "            self.log = self.log[1:]\n",
    "\n",
    "    def get_last(self, i):\n",
    "        return self.log[-i]\n",
    "\n",
    "\n",
    "log = OrderLog(5)\n",
    "log.record(1)\n",
    "log.record(2)\n",
    "assert log.log == [1, 2]\n",
    "log.record(3)\n",
    "log.record(4)\n",
    "log.record(5)\n",
    "assert log.log == [1, 2, 3, 4, 5]\n",
    "log.record(6)\n",
    "log.record(7)\n",
    "log.record(8)\n",
    "assert log.log == [4, 5, 6, 7, 8]\n",
    "assert log.get_last(4) == 5\n",
    "assert log.get_last(1) == 8"
   ]
  },
  {
   "cell_type": "markdown",
   "metadata": {},
   "source": [
    "Problem 17\n",
    "This problem was asked by Google.\n",
    "\n",
    "Suppose we represent our file system by a string in the following manner:\n",
    "\n",
    "The string \"dir\\n\\tsubdir1\\n\\tsubdir2\\n\\t\\tfile.ext\" represents:\n",
    "\n",
    "dir\n",
    "    subdir1\n",
    "    subdir2\n",
    "        file.ext\n",
    "The directory dir contains an empty sub-directory subdir1 and a sub-directory subdir2 containing a file file.ext.\n",
    "\n",
    "The string \"dir\\n\\tsubdir1\\n\\t\\tfile1.ext\\n\\t\\tsubsubdir1\\n\\tsubdir2\\n\\t\\tsubsubdir2\\n\\t\\t\\tfile2.ext\" represents:\n",
    "\n",
    "dir\n",
    "    subdir1\n",
    "        file1.ext\n",
    "        subsubdir1\n",
    "    subdir2\n",
    "        subsubdir2\n",
    "            file2.ext\n",
    "The directory dir contains two sub-directories subdir1 and subdir2. subdir1 contains a file file1.ext and an empty second-level sub-directory subsubdir1. subdir2 contains a second-level sub-directory subsubdir2 containing a file file2.ext.\n",
    "\n",
    "We are interested in finding the longest (number of characters) absolute path to a file within our file system. For example, in the second example above, the longest absolute path is \"dir/subdir2/subsubdir2/file2.ext\", and its length is 32 (not including the double quotes).\n",
    "\n",
    "Given a string representing the file system in the above format, return the length of the longest absolute path to a file in the abstracted file system. If there is no file in the system, return 0."
   ]
  },
  {
   "cell_type": "code",
   "execution_count": 3,
   "metadata": {},
   "outputs": [
    {
     "name": "stdout",
     "output_type": "stream",
     "text": [
      "Move disk 1 from tower A to tower B.\n",
      "Move disk 2 from tower A to tower C.\n",
      "Move disk 1 from tower B to tower C.\n",
      "Move disk 3 from tower A to tower B.\n",
      "Move disk 1 from tower C to tower A.\n",
      "Move disk 2 from tower C to tower B.\n",
      "Move disk 1 from tower A to tower B.\n",
      "Move disk 4 from tower A to tower C.\n",
      "Move disk 1 from tower B to tower C.\n",
      "Move disk 2 from tower B to tower A.\n",
      "Move disk 1 from tower C to tower A.\n",
      "Move disk 3 from tower B to tower C.\n",
      "Move disk 1 from tower A to tower B.\n",
      "Move disk 2 from tower A to tower C.\n",
      "Move disk 1 from tower B to tower C.\n"
     ]
    }
   ],
   "source": [
    "def tof(disks, source, middle, target):\n",
    "    if disks == 1:\n",
    "        print('Move disk 1 from tower {} to tower {}.'.format(source, target))\n",
    "        return\n",
    " \n",
    "    tof(disks - 1, source, target, middle)\n",
    "    print('Move disk {} from tower {} to tower {}.'.format(disks, source, target))\n",
    "    tof(disks - 1, middle, source, target)\n",
    " \n",
    " \n",
    "disks = 4\n",
    "tof(disks, 'A', 'B', 'C')\n"
   ]
  },
  {
   "cell_type": "code",
   "execution_count": 13,
   "metadata": {},
   "outputs": [
    {
     "name": "stdout",
     "output_type": "stream",
     "text": [
      "moving disk 1 to from A to C \n",
      "moving disk 2 from A to B \n",
      "moving disk 1 to from A to B \n",
      "moving disk 3 from A to C \n",
      "moving disk 1 to from A to B \n",
      "moving disk 2 from A to C \n",
      "moving disk 1 to from A to C \n",
      "moving disk 4 from A to B \n",
      "moving disk 1 to from A to B \n",
      "moving disk 2 from A to C \n",
      "moving disk 1 to from A to C \n",
      "moving disk 3 from A to B \n",
      "moving disk 1 to from A to C \n",
      "moving disk 2 from A to B \n",
      "moving disk 1 to from A to B \n"
     ]
    }
   ],
   "source": [
    "def hanoimoving(n,source,target,auxilary):\n",
    "    if n==1:\n",
    "          print('moving disk {} to from {} to {} '.format(n,source,target))\n",
    "    else:\n",
    "         hanoimoving(n-1,source,auxilary,target)\n",
    "         print('moving disk {} from {} to {} '.format(n,source,target))\n",
    "         hanoimoving(n-1,source,target,auxilary)\n",
    "hanoimoving(4,'A','B','C')"
   ]
  },
  {
   "cell_type": "code",
   "execution_count": null,
   "metadata": {},
   "outputs": [],
   "source": [
    "def hanoimoving(n,source,target,auxilary):\n",
    "    if n==1:\n",
    "          print('moving disk {} to from {} to {} '.format(n,source,target))\n",
    "    else:\n",
    "         hanoimoving(n-1,source,auxilary,target)\n",
    "         print('moving disk {} from {} to {} '.format(n,source,target))\n",
    "         hanoimoving(n-1,source,target,auxilary)\n",
    "hanoimoving(4,'A','B','C')"
   ]
  }
 ],
 "metadata": {
  "kernelspec": {
   "display_name": "Python 3",
   "language": "python",
   "name": "python3"
  },
  "language_info": {
   "codemirror_mode": {
    "name": "ipython",
    "version": 3
   },
   "file_extension": ".py",
   "mimetype": "text/x-python",
   "name": "python",
   "nbconvert_exporter": "python",
   "pygments_lexer": "ipython3",
   "version": "3.6.7"
  }
 },
 "nbformat": 4,
 "nbformat_minor": 2
}
